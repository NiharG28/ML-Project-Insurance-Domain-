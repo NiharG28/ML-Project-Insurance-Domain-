{
 "cells": [
  {
   "cell_type": "code",
   "execution_count": 1,
   "id": "874c46a0",
   "metadata": {},
   "outputs": [],
   "source": [
    "import numpy as np\n",
    "import pandas as pd\n",
    "import matplotlib.pyplot as plt\n",
    "%matplotlib inline\n",
    "import seaborn as sns\n",
    "import warnings\n",
    "warnings.filterwarnings('ignore')"
   ]
  },
  {
   "cell_type": "code",
   "execution_count": 2,
   "id": "6dabdc75",
   "metadata": {},
   "outputs": [],
   "source": [
    "df = pd.read_csv('Data.csv')"
   ]
  },
  {
   "cell_type": "code",
   "execution_count": 3,
   "id": "f10e5ed1",
   "metadata": {},
   "outputs": [
    {
     "data": {
      "text/html": [
       "<div>\n",
       "<style scoped>\n",
       "    .dataframe tbody tr th:only-of-type {\n",
       "        vertical-align: middle;\n",
       "    }\n",
       "\n",
       "    .dataframe tbody tr th {\n",
       "        vertical-align: top;\n",
       "    }\n",
       "\n",
       "    .dataframe thead th {\n",
       "        text-align: right;\n",
       "    }\n",
       "</style>\n",
       "<table border=\"1\" class=\"dataframe\">\n",
       "  <thead>\n",
       "    <tr style=\"text-align: right;\">\n",
       "      <th></th>\n",
       "      <th>policy_id</th>\n",
       "      <th>policy_tenure</th>\n",
       "      <th>age_of_car</th>\n",
       "      <th>age_of_policyholder</th>\n",
       "      <th>area_cluster</th>\n",
       "      <th>population_density</th>\n",
       "      <th>make</th>\n",
       "      <th>segment</th>\n",
       "      <th>model</th>\n",
       "      <th>fuel_type</th>\n",
       "      <th>...</th>\n",
       "      <th>is_brake_assist</th>\n",
       "      <th>is_power_door_locks</th>\n",
       "      <th>is_central_locking</th>\n",
       "      <th>is_power_steering</th>\n",
       "      <th>is_driver_seat_height_adjustable</th>\n",
       "      <th>is_day_night_rear_view_mirror</th>\n",
       "      <th>is_ecw</th>\n",
       "      <th>is_speed_alert</th>\n",
       "      <th>ncap_rating</th>\n",
       "      <th>is_claim</th>\n",
       "    </tr>\n",
       "  </thead>\n",
       "  <tbody>\n",
       "    <tr>\n",
       "      <th>0</th>\n",
       "      <td>ID00001</td>\n",
       "      <td>0.515874</td>\n",
       "      <td>0.05</td>\n",
       "      <td>0.644231</td>\n",
       "      <td>C1</td>\n",
       "      <td>4990</td>\n",
       "      <td>1</td>\n",
       "      <td>A</td>\n",
       "      <td>M1</td>\n",
       "      <td>CNG</td>\n",
       "      <td>...</td>\n",
       "      <td>No</td>\n",
       "      <td>No</td>\n",
       "      <td>No</td>\n",
       "      <td>Yes</td>\n",
       "      <td>No</td>\n",
       "      <td>No</td>\n",
       "      <td>No</td>\n",
       "      <td>Yes</td>\n",
       "      <td>0</td>\n",
       "      <td>0</td>\n",
       "    </tr>\n",
       "    <tr>\n",
       "      <th>1</th>\n",
       "      <td>ID00002</td>\n",
       "      <td>0.672619</td>\n",
       "      <td>0.02</td>\n",
       "      <td>0.375000</td>\n",
       "      <td>C2</td>\n",
       "      <td>27003</td>\n",
       "      <td>1</td>\n",
       "      <td>A</td>\n",
       "      <td>M1</td>\n",
       "      <td>CNG</td>\n",
       "      <td>...</td>\n",
       "      <td>No</td>\n",
       "      <td>No</td>\n",
       "      <td>No</td>\n",
       "      <td>Yes</td>\n",
       "      <td>No</td>\n",
       "      <td>No</td>\n",
       "      <td>No</td>\n",
       "      <td>Yes</td>\n",
       "      <td>0</td>\n",
       "      <td>0</td>\n",
       "    </tr>\n",
       "    <tr>\n",
       "      <th>2</th>\n",
       "      <td>ID00003</td>\n",
       "      <td>0.841110</td>\n",
       "      <td>0.02</td>\n",
       "      <td>0.384615</td>\n",
       "      <td>C3</td>\n",
       "      <td>4076</td>\n",
       "      <td>1</td>\n",
       "      <td>A</td>\n",
       "      <td>M1</td>\n",
       "      <td>CNG</td>\n",
       "      <td>...</td>\n",
       "      <td>No</td>\n",
       "      <td>No</td>\n",
       "      <td>No</td>\n",
       "      <td>Yes</td>\n",
       "      <td>No</td>\n",
       "      <td>No</td>\n",
       "      <td>No</td>\n",
       "      <td>Yes</td>\n",
       "      <td>0</td>\n",
       "      <td>0</td>\n",
       "    </tr>\n",
       "    <tr>\n",
       "      <th>3</th>\n",
       "      <td>ID00004</td>\n",
       "      <td>0.900277</td>\n",
       "      <td>0.11</td>\n",
       "      <td>0.432692</td>\n",
       "      <td>C4</td>\n",
       "      <td>21622</td>\n",
       "      <td>1</td>\n",
       "      <td>C1</td>\n",
       "      <td>M2</td>\n",
       "      <td>Petrol</td>\n",
       "      <td>...</td>\n",
       "      <td>Yes</td>\n",
       "      <td>Yes</td>\n",
       "      <td>Yes</td>\n",
       "      <td>Yes</td>\n",
       "      <td>Yes</td>\n",
       "      <td>Yes</td>\n",
       "      <td>Yes</td>\n",
       "      <td>Yes</td>\n",
       "      <td>2</td>\n",
       "      <td>0</td>\n",
       "    </tr>\n",
       "    <tr>\n",
       "      <th>4</th>\n",
       "      <td>ID00005</td>\n",
       "      <td>0.596403</td>\n",
       "      <td>0.11</td>\n",
       "      <td>0.634615</td>\n",
       "      <td>C5</td>\n",
       "      <td>34738</td>\n",
       "      <td>2</td>\n",
       "      <td>A</td>\n",
       "      <td>M3</td>\n",
       "      <td>Petrol</td>\n",
       "      <td>...</td>\n",
       "      <td>No</td>\n",
       "      <td>Yes</td>\n",
       "      <td>Yes</td>\n",
       "      <td>Yes</td>\n",
       "      <td>No</td>\n",
       "      <td>Yes</td>\n",
       "      <td>Yes</td>\n",
       "      <td>Yes</td>\n",
       "      <td>2</td>\n",
       "      <td>0</td>\n",
       "    </tr>\n",
       "  </tbody>\n",
       "</table>\n",
       "<p>5 rows × 44 columns</p>\n",
       "</div>"
      ],
      "text/plain": [
       "  policy_id  policy_tenure  age_of_car  age_of_policyholder area_cluster  \\\n",
       "0   ID00001       0.515874        0.05             0.644231           C1   \n",
       "1   ID00002       0.672619        0.02             0.375000           C2   \n",
       "2   ID00003       0.841110        0.02             0.384615           C3   \n",
       "3   ID00004       0.900277        0.11             0.432692           C4   \n",
       "4   ID00005       0.596403        0.11             0.634615           C5   \n",
       "\n",
       "   population_density  make segment model fuel_type  ... is_brake_assist  \\\n",
       "0                4990     1       A    M1       CNG  ...              No   \n",
       "1               27003     1       A    M1       CNG  ...              No   \n",
       "2                4076     1       A    M1       CNG  ...              No   \n",
       "3               21622     1      C1    M2    Petrol  ...             Yes   \n",
       "4               34738     2       A    M3    Petrol  ...              No   \n",
       "\n",
       "  is_power_door_locks is_central_locking  is_power_steering  \\\n",
       "0                  No                 No                Yes   \n",
       "1                  No                 No                Yes   \n",
       "2                  No                 No                Yes   \n",
       "3                 Yes                Yes                Yes   \n",
       "4                 Yes                Yes                Yes   \n",
       "\n",
       "  is_driver_seat_height_adjustable is_day_night_rear_view_mirror is_ecw  \\\n",
       "0                               No                            No     No   \n",
       "1                               No                            No     No   \n",
       "2                               No                            No     No   \n",
       "3                              Yes                           Yes    Yes   \n",
       "4                               No                           Yes    Yes   \n",
       "\n",
       "  is_speed_alert ncap_rating is_claim  \n",
       "0            Yes           0        0  \n",
       "1            Yes           0        0  \n",
       "2            Yes           0        0  \n",
       "3            Yes           2        0  \n",
       "4            Yes           2        0  \n",
       "\n",
       "[5 rows x 44 columns]"
      ]
     },
     "execution_count": 3,
     "metadata": {},
     "output_type": "execute_result"
    }
   ],
   "source": [
    "df.head()"
   ]
  },
  {
   "cell_type": "code",
   "execution_count": 4,
   "id": "d773ee79",
   "metadata": {},
   "outputs": [
    {
     "data": {
      "text/plain": [
       "(58592, 44)"
      ]
     },
     "execution_count": 4,
     "metadata": {},
     "output_type": "execute_result"
    }
   ],
   "source": [
    "df.shape"
   ]
  },
  {
   "cell_type": "code",
   "execution_count": 5,
   "id": "9ab5800f",
   "metadata": {},
   "outputs": [],
   "source": [
    "# To chech whether there are null values in data"
   ]
  },
  {
   "cell_type": "code",
   "execution_count": 6,
   "id": "98354dea",
   "metadata": {},
   "outputs": [
    {
     "data": {
      "text/plain": [
       "policy_id                           0\n",
       "policy_tenure                       0\n",
       "age_of_car                          0\n",
       "age_of_policyholder                 0\n",
       "area_cluster                        0\n",
       "population_density                  0\n",
       "make                                0\n",
       "segment                             0\n",
       "model                               0\n",
       "fuel_type                           0\n",
       "max_torque                          0\n",
       "max_power                           0\n",
       "engine_type                         0\n",
       "airbags                             0\n",
       "is_esc                              0\n",
       "is_adjustable_steering              0\n",
       "is_tpms                             0\n",
       "is_parking_sensors                  0\n",
       "is_parking_camera                   0\n",
       "rear_brakes_type                    0\n",
       "displacement                        0\n",
       "cylinder                            0\n",
       "transmission_type                   0\n",
       "gear_box                            0\n",
       "steering_type                       0\n",
       "turning_radius                      0\n",
       "length                              0\n",
       "width                               0\n",
       "height                              0\n",
       "gross_weight                        0\n",
       "is_front_fog_lights                 0\n",
       "is_rear_window_wiper                0\n",
       "is_rear_window_washer               0\n",
       "is_rear_window_defogger             0\n",
       "is_brake_assist                     0\n",
       "is_power_door_locks                 0\n",
       "is_central_locking                  0\n",
       "is_power_steering                   0\n",
       "is_driver_seat_height_adjustable    0\n",
       "is_day_night_rear_view_mirror       0\n",
       "is_ecw                              0\n",
       "is_speed_alert                      0\n",
       "ncap_rating                         0\n",
       "is_claim                            0\n",
       "dtype: int64"
      ]
     },
     "execution_count": 6,
     "metadata": {},
     "output_type": "execute_result"
    }
   ],
   "source": [
    "df.isnull().sum()"
   ]
  },
  {
   "cell_type": "code",
   "execution_count": 7,
   "id": "dd42bf01",
   "metadata": {},
   "outputs": [],
   "source": [
    "# To chech whether there are duplicate values in data"
   ]
  },
  {
   "cell_type": "code",
   "execution_count": 8,
   "id": "5d2c1489",
   "metadata": {},
   "outputs": [
    {
     "data": {
      "text/plain": [
       "0"
      ]
     },
     "execution_count": 8,
     "metadata": {},
     "output_type": "execute_result"
    }
   ],
   "source": [
    "df.duplicated().sum()"
   ]
  },
  {
   "cell_type": "code",
   "execution_count": 9,
   "id": "6089cdf3",
   "metadata": {},
   "outputs": [],
   "source": [
    "# Geeting more about data by taking info , describe and shape "
   ]
  },
  {
   "cell_type": "code",
   "execution_count": 10,
   "id": "52147e1d",
   "metadata": {
    "scrolled": true
   },
   "outputs": [
    {
     "name": "stdout",
     "output_type": "stream",
     "text": [
      "<class 'pandas.core.frame.DataFrame'>\n",
      "RangeIndex: 58592 entries, 0 to 58591\n",
      "Data columns (total 44 columns):\n",
      " #   Column                            Non-Null Count  Dtype  \n",
      "---  ------                            --------------  -----  \n",
      " 0   policy_id                         58592 non-null  object \n",
      " 1   policy_tenure                     58592 non-null  float64\n",
      " 2   age_of_car                        58592 non-null  float64\n",
      " 3   age_of_policyholder               58592 non-null  float64\n",
      " 4   area_cluster                      58592 non-null  object \n",
      " 5   population_density                58592 non-null  int64  \n",
      " 6   make                              58592 non-null  int64  \n",
      " 7   segment                           58592 non-null  object \n",
      " 8   model                             58592 non-null  object \n",
      " 9   fuel_type                         58592 non-null  object \n",
      " 10  max_torque                        58592 non-null  object \n",
      " 11  max_power                         58592 non-null  object \n",
      " 12  engine_type                       58592 non-null  object \n",
      " 13  airbags                           58592 non-null  int64  \n",
      " 14  is_esc                            58592 non-null  object \n",
      " 15  is_adjustable_steering            58592 non-null  object \n",
      " 16  is_tpms                           58592 non-null  object \n",
      " 17  is_parking_sensors                58592 non-null  object \n",
      " 18  is_parking_camera                 58592 non-null  object \n",
      " 19  rear_brakes_type                  58592 non-null  object \n",
      " 20  displacement                      58592 non-null  int64  \n",
      " 21  cylinder                          58592 non-null  int64  \n",
      " 22  transmission_type                 58592 non-null  object \n",
      " 23  gear_box                          58592 non-null  int64  \n",
      " 24  steering_type                     58592 non-null  object \n",
      " 25  turning_radius                    58592 non-null  float64\n",
      " 26  length                            58592 non-null  int64  \n",
      " 27  width                             58592 non-null  int64  \n",
      " 28  height                            58592 non-null  int64  \n",
      " 29  gross_weight                      58592 non-null  int64  \n",
      " 30  is_front_fog_lights               58592 non-null  object \n",
      " 31  is_rear_window_wiper              58592 non-null  object \n",
      " 32  is_rear_window_washer             58592 non-null  object \n",
      " 33  is_rear_window_defogger           58592 non-null  object \n",
      " 34  is_brake_assist                   58592 non-null  object \n",
      " 35  is_power_door_locks               58592 non-null  object \n",
      " 36  is_central_locking                58592 non-null  object \n",
      " 37  is_power_steering                 58592 non-null  object \n",
      " 38  is_driver_seat_height_adjustable  58592 non-null  object \n",
      " 39  is_day_night_rear_view_mirror     58592 non-null  object \n",
      " 40  is_ecw                            58592 non-null  object \n",
      " 41  is_speed_alert                    58592 non-null  object \n",
      " 42  ncap_rating                       58592 non-null  int64  \n",
      " 43  is_claim                          58592 non-null  int64  \n",
      "dtypes: float64(4), int64(12), object(28)\n",
      "memory usage: 19.7+ MB\n"
     ]
    }
   ],
   "source": [
    "df.info()"
   ]
  },
  {
   "cell_type": "code",
   "execution_count": 11,
   "id": "aefcab2f",
   "metadata": {},
   "outputs": [
    {
     "data": {
      "text/plain": [
       "(58592, 44)"
      ]
     },
     "execution_count": 11,
     "metadata": {},
     "output_type": "execute_result"
    }
   ],
   "source": [
    "df.shape"
   ]
  },
  {
   "cell_type": "code",
   "execution_count": 12,
   "id": "b668e8b4",
   "metadata": {},
   "outputs": [
    {
     "data": {
      "text/html": [
       "<div>\n",
       "<style scoped>\n",
       "    .dataframe tbody tr th:only-of-type {\n",
       "        vertical-align: middle;\n",
       "    }\n",
       "\n",
       "    .dataframe tbody tr th {\n",
       "        vertical-align: top;\n",
       "    }\n",
       "\n",
       "    .dataframe thead th {\n",
       "        text-align: right;\n",
       "    }\n",
       "</style>\n",
       "<table border=\"1\" class=\"dataframe\">\n",
       "  <thead>\n",
       "    <tr style=\"text-align: right;\">\n",
       "      <th></th>\n",
       "      <th>policy_tenure</th>\n",
       "      <th>age_of_car</th>\n",
       "      <th>age_of_policyholder</th>\n",
       "      <th>population_density</th>\n",
       "      <th>make</th>\n",
       "      <th>airbags</th>\n",
       "      <th>displacement</th>\n",
       "      <th>cylinder</th>\n",
       "      <th>gear_box</th>\n",
       "      <th>turning_radius</th>\n",
       "      <th>length</th>\n",
       "      <th>width</th>\n",
       "      <th>height</th>\n",
       "      <th>gross_weight</th>\n",
       "      <th>ncap_rating</th>\n",
       "      <th>is_claim</th>\n",
       "    </tr>\n",
       "  </thead>\n",
       "  <tbody>\n",
       "    <tr>\n",
       "      <th>count</th>\n",
       "      <td>58592.000000</td>\n",
       "      <td>58592.000000</td>\n",
       "      <td>58592.000000</td>\n",
       "      <td>58592.000000</td>\n",
       "      <td>58592.000000</td>\n",
       "      <td>58592.000000</td>\n",
       "      <td>58592.000000</td>\n",
       "      <td>58592.000000</td>\n",
       "      <td>58592.000000</td>\n",
       "      <td>58592.000000</td>\n",
       "      <td>58592.000000</td>\n",
       "      <td>58592.000000</td>\n",
       "      <td>58592.00000</td>\n",
       "      <td>58592.000000</td>\n",
       "      <td>58592.000000</td>\n",
       "      <td>58592.000000</td>\n",
       "    </tr>\n",
       "    <tr>\n",
       "      <th>mean</th>\n",
       "      <td>0.611246</td>\n",
       "      <td>0.069424</td>\n",
       "      <td>0.469420</td>\n",
       "      <td>18826.858667</td>\n",
       "      <td>1.763722</td>\n",
       "      <td>3.137066</td>\n",
       "      <td>1162.355851</td>\n",
       "      <td>3.626963</td>\n",
       "      <td>5.245443</td>\n",
       "      <td>4.852893</td>\n",
       "      <td>3850.476891</td>\n",
       "      <td>1672.233667</td>\n",
       "      <td>1553.33537</td>\n",
       "      <td>1385.276813</td>\n",
       "      <td>1.759950</td>\n",
       "      <td>0.063968</td>\n",
       "    </tr>\n",
       "    <tr>\n",
       "      <th>std</th>\n",
       "      <td>0.414156</td>\n",
       "      <td>0.056721</td>\n",
       "      <td>0.122886</td>\n",
       "      <td>17660.174792</td>\n",
       "      <td>1.136988</td>\n",
       "      <td>1.832641</td>\n",
       "      <td>266.304786</td>\n",
       "      <td>0.483616</td>\n",
       "      <td>0.430353</td>\n",
       "      <td>0.228061</td>\n",
       "      <td>311.457119</td>\n",
       "      <td>112.089135</td>\n",
       "      <td>79.62227</td>\n",
       "      <td>212.423085</td>\n",
       "      <td>1.389576</td>\n",
       "      <td>0.244698</td>\n",
       "    </tr>\n",
       "    <tr>\n",
       "      <th>min</th>\n",
       "      <td>0.002735</td>\n",
       "      <td>0.000000</td>\n",
       "      <td>0.288462</td>\n",
       "      <td>290.000000</td>\n",
       "      <td>1.000000</td>\n",
       "      <td>1.000000</td>\n",
       "      <td>796.000000</td>\n",
       "      <td>3.000000</td>\n",
       "      <td>5.000000</td>\n",
       "      <td>4.500000</td>\n",
       "      <td>3445.000000</td>\n",
       "      <td>1475.000000</td>\n",
       "      <td>1475.00000</td>\n",
       "      <td>1051.000000</td>\n",
       "      <td>0.000000</td>\n",
       "      <td>0.000000</td>\n",
       "    </tr>\n",
       "    <tr>\n",
       "      <th>25%</th>\n",
       "      <td>0.210250</td>\n",
       "      <td>0.020000</td>\n",
       "      <td>0.365385</td>\n",
       "      <td>6112.000000</td>\n",
       "      <td>1.000000</td>\n",
       "      <td>2.000000</td>\n",
       "      <td>796.000000</td>\n",
       "      <td>3.000000</td>\n",
       "      <td>5.000000</td>\n",
       "      <td>4.600000</td>\n",
       "      <td>3445.000000</td>\n",
       "      <td>1515.000000</td>\n",
       "      <td>1475.00000</td>\n",
       "      <td>1185.000000</td>\n",
       "      <td>0.000000</td>\n",
       "      <td>0.000000</td>\n",
       "    </tr>\n",
       "    <tr>\n",
       "      <th>50%</th>\n",
       "      <td>0.573792</td>\n",
       "      <td>0.060000</td>\n",
       "      <td>0.451923</td>\n",
       "      <td>8794.000000</td>\n",
       "      <td>1.000000</td>\n",
       "      <td>2.000000</td>\n",
       "      <td>1197.000000</td>\n",
       "      <td>4.000000</td>\n",
       "      <td>5.000000</td>\n",
       "      <td>4.800000</td>\n",
       "      <td>3845.000000</td>\n",
       "      <td>1735.000000</td>\n",
       "      <td>1530.00000</td>\n",
       "      <td>1335.000000</td>\n",
       "      <td>2.000000</td>\n",
       "      <td>0.000000</td>\n",
       "    </tr>\n",
       "    <tr>\n",
       "      <th>75%</th>\n",
       "      <td>1.039104</td>\n",
       "      <td>0.110000</td>\n",
       "      <td>0.548077</td>\n",
       "      <td>27003.000000</td>\n",
       "      <td>3.000000</td>\n",
       "      <td>6.000000</td>\n",
       "      <td>1493.000000</td>\n",
       "      <td>4.000000</td>\n",
       "      <td>5.000000</td>\n",
       "      <td>5.000000</td>\n",
       "      <td>3995.000000</td>\n",
       "      <td>1755.000000</td>\n",
       "      <td>1635.00000</td>\n",
       "      <td>1510.000000</td>\n",
       "      <td>3.000000</td>\n",
       "      <td>0.000000</td>\n",
       "    </tr>\n",
       "    <tr>\n",
       "      <th>max</th>\n",
       "      <td>1.396641</td>\n",
       "      <td>1.000000</td>\n",
       "      <td>1.000000</td>\n",
       "      <td>73430.000000</td>\n",
       "      <td>5.000000</td>\n",
       "      <td>6.000000</td>\n",
       "      <td>1498.000000</td>\n",
       "      <td>4.000000</td>\n",
       "      <td>6.000000</td>\n",
       "      <td>5.200000</td>\n",
       "      <td>4300.000000</td>\n",
       "      <td>1811.000000</td>\n",
       "      <td>1825.00000</td>\n",
       "      <td>1720.000000</td>\n",
       "      <td>5.000000</td>\n",
       "      <td>1.000000</td>\n",
       "    </tr>\n",
       "  </tbody>\n",
       "</table>\n",
       "</div>"
      ],
      "text/plain": [
       "       policy_tenure    age_of_car  age_of_policyholder  population_density  \\\n",
       "count   58592.000000  58592.000000         58592.000000        58592.000000   \n",
       "mean        0.611246      0.069424             0.469420        18826.858667   \n",
       "std         0.414156      0.056721             0.122886        17660.174792   \n",
       "min         0.002735      0.000000             0.288462          290.000000   \n",
       "25%         0.210250      0.020000             0.365385         6112.000000   \n",
       "50%         0.573792      0.060000             0.451923         8794.000000   \n",
       "75%         1.039104      0.110000             0.548077        27003.000000   \n",
       "max         1.396641      1.000000             1.000000        73430.000000   \n",
       "\n",
       "               make       airbags  displacement      cylinder      gear_box  \\\n",
       "count  58592.000000  58592.000000  58592.000000  58592.000000  58592.000000   \n",
       "mean       1.763722      3.137066   1162.355851      3.626963      5.245443   \n",
       "std        1.136988      1.832641    266.304786      0.483616      0.430353   \n",
       "min        1.000000      1.000000    796.000000      3.000000      5.000000   \n",
       "25%        1.000000      2.000000    796.000000      3.000000      5.000000   \n",
       "50%        1.000000      2.000000   1197.000000      4.000000      5.000000   \n",
       "75%        3.000000      6.000000   1493.000000      4.000000      5.000000   \n",
       "max        5.000000      6.000000   1498.000000      4.000000      6.000000   \n",
       "\n",
       "       turning_radius        length         width       height  gross_weight  \\\n",
       "count    58592.000000  58592.000000  58592.000000  58592.00000  58592.000000   \n",
       "mean         4.852893   3850.476891   1672.233667   1553.33537   1385.276813   \n",
       "std          0.228061    311.457119    112.089135     79.62227    212.423085   \n",
       "min          4.500000   3445.000000   1475.000000   1475.00000   1051.000000   \n",
       "25%          4.600000   3445.000000   1515.000000   1475.00000   1185.000000   \n",
       "50%          4.800000   3845.000000   1735.000000   1530.00000   1335.000000   \n",
       "75%          5.000000   3995.000000   1755.000000   1635.00000   1510.000000   \n",
       "max          5.200000   4300.000000   1811.000000   1825.00000   1720.000000   \n",
       "\n",
       "        ncap_rating      is_claim  \n",
       "count  58592.000000  58592.000000  \n",
       "mean       1.759950      0.063968  \n",
       "std        1.389576      0.244698  \n",
       "min        0.000000      0.000000  \n",
       "25%        0.000000      0.000000  \n",
       "50%        2.000000      0.000000  \n",
       "75%        3.000000      0.000000  \n",
       "max        5.000000      1.000000  "
      ]
     },
     "execution_count": 12,
     "metadata": {},
     "output_type": "execute_result"
    }
   ],
   "source": [
    "df.describe()"
   ]
  },
  {
   "cell_type": "code",
   "execution_count": 13,
   "id": "3506b99e",
   "metadata": {},
   "outputs": [],
   "source": [
    "# Target column count"
   ]
  },
  {
   "cell_type": "code",
   "execution_count": 14,
   "id": "e09d081d",
   "metadata": {},
   "outputs": [
    {
     "data": {
      "text/plain": [
       "0    54844\n",
       "1     3748\n",
       "Name: is_claim, dtype: int64"
      ]
     },
     "execution_count": 14,
     "metadata": {},
     "output_type": "execute_result"
    }
   ],
   "source": [
    " df['is_claim'].value_counts()"
   ]
  },
  {
   "cell_type": "code",
   "execution_count": 15,
   "id": "aa0d84f6",
   "metadata": {},
   "outputs": [
    {
     "data": {
      "text/plain": [
       "<Axes: xlabel='is_claim', ylabel='count'>"
      ]
     },
     "execution_count": 15,
     "metadata": {},
     "output_type": "execute_result"
    },
    {
     "data": {
      "image/png": "[encoded data removed]",
      "text/plain": [
       "<Figure size 640x480 with 1 Axes>"
      ]
     },
     "metadata": {},
     "output_type": "display_data"
    }
   ],
   "source": [
    "sns.countplot(x='is_claim', data= df)"
   ]
  },
  {
   "cell_type": "code",
   "execution_count": 16,
   "id": "8304b937",
   "metadata": {},
   "outputs": [],
   "source": [
    "# Imbalanced data for Target Column"
   ]
  },
  {
   "cell_type": "code",
   "execution_count": 17,
   "id": "7479bbc3",
   "metadata": {},
   "outputs": [],
   "source": [
    "## EDA"
   ]
  },
  {
   "cell_type": "code",
   "execution_count": 18,
   "id": "7438227a",
   "metadata": {},
   "outputs": [
    {
     "data": {
      "image/png": "[encoded data removed]",
      "text/plain": [
       "<Figure size 640x480 with 1 Axes>"
      ]
     },
     "metadata": {},
     "output_type": "display_data"
    }
   ],
   "source": [
    "y = sns.countplot(x='area_cluster', data =df, hue='is_claim')\n",
    "y.set_xticklabels(y.get_xticklabels(), rotation=70, ha=\"right\")\n",
    "plt.tight_layout()\n",
    "plt.show()"
   ]
  },
  {
   "cell_type": "code",
   "execution_count": 19,
   "id": "6e62bb40",
   "metadata": {},
   "outputs": [
    {
     "data": {
      "image/png": "[encoded data removed]",
      "text/plain": [
       "<Figure size 640x480 with 1 Axes>"
      ]
     },
     "metadata": {},
     "output_type": "display_data"
    }
   ],
   "source": [
    "y = sns.countplot(x='segment', data =df, hue='is_claim')"
   ]
  },
  {
   "cell_type": "code",
   "execution_count": 20,
   "id": "15bff429",
   "metadata": {},
   "outputs": [],
   "source": [
    "# To check how many unique values each column is having"
   ]
  },
  {
   "cell_type": "code",
   "execution_count": 21,
   "id": "506b732d",
   "metadata": {},
   "outputs": [
    {
     "name": "stdout",
     "output_type": "stream",
     "text": [
      "Number of unique values in : policy_id \n",
      "\n",
      " The unique values are 58592\n",
      "Number of unique values in : policy_tenure \n",
      "\n",
      " The unique values are 58592\n",
      "Number of unique values in : age_of_car \n",
      "\n",
      " The unique values are 49\n",
      "Number of unique values in : age_of_policyholder \n",
      "\n",
      " The unique values are 75\n",
      "Number of unique values in : area_cluster \n",
      "\n",
      " The unique values are 22\n",
      "Number of unique values in : population_density \n",
      "\n",
      " The unique values are 22\n",
      "Number of unique values in : make \n",
      "\n",
      " The unique values are 5\n",
      "Number of unique values in : segment \n",
      "\n",
      " The unique values are 6\n",
      "Number of unique values in : model \n",
      "\n",
      " The unique values are 11\n",
      "Number of unique values in : fuel_type \n",
      "\n",
      " The unique values are 3\n",
      "Number of unique values in : max_torque \n",
      "\n",
      " The unique values are 9\n",
      "Number of unique values in : max_power \n",
      "\n",
      " The unique values are 9\n",
      "Number of unique values in : engine_type \n",
      "\n",
      " The unique values are 11\n",
      "Number of unique values in : airbags \n",
      "\n",
      " The unique values are 3\n",
      "Number of unique values in : is_esc \n",
      "\n",
      " The unique values are 2\n",
      "Number of unique values in : is_adjustable_steering \n",
      "\n",
      " The unique values are 2\n",
      "Number of unique values in : is_tpms \n",
      "\n",
      " The unique values are 2\n",
      "Number of unique values in : is_parking_sensors \n",
      "\n",
      " The unique values are 2\n",
      "Number of unique values in : is_parking_camera \n",
      "\n",
      " The unique values are 2\n",
      "Number of unique values in : rear_brakes_type \n",
      "\n",
      " The unique values are 2\n",
      "Number of unique values in : displacement \n",
      "\n",
      " The unique values are 9\n",
      "Number of unique values in : cylinder \n",
      "\n",
      " The unique values are 2\n",
      "Number of unique values in : transmission_type \n",
      "\n",
      " The unique values are 2\n",
      "Number of unique values in : gear_box \n",
      "\n",
      " The unique values are 2\n",
      "Number of unique values in : steering_type \n",
      "\n",
      " The unique values are 3\n",
      "Number of unique values in : turning_radius \n",
      "\n",
      " The unique values are 9\n",
      "Number of unique values in : length \n",
      "\n",
      " The unique values are 9\n",
      "Number of unique values in : width \n",
      "\n",
      " The unique values are 10\n",
      "Number of unique values in : height \n",
      "\n",
      " The unique values are 11\n",
      "Number of unique values in : gross_weight \n",
      "\n",
      " The unique values are 10\n",
      "Number of unique values in : is_front_fog_lights \n",
      "\n",
      " The unique values are 2\n",
      "Number of unique values in : is_rear_window_wiper \n",
      "\n",
      " The unique values are 2\n",
      "Number of unique values in : is_rear_window_washer \n",
      "\n",
      " The unique values are 2\n",
      "Number of unique values in : is_rear_window_defogger \n",
      "\n",
      " The unique values are 2\n",
      "Number of unique values in : is_brake_assist \n",
      "\n",
      " The unique values are 2\n",
      "Number of unique values in : is_power_door_locks \n",
      "\n",
      " The unique values are 2\n",
      "Number of unique values in : is_central_locking \n",
      "\n",
      " The unique values are 2\n",
      "Number of unique values in : is_power_steering \n",
      "\n",
      " The unique values are 2\n",
      "Number of unique values in : is_driver_seat_height_adjustable \n",
      "\n",
      " The unique values are 2\n",
      "Number of unique values in : is_day_night_rear_view_mirror \n",
      "\n",
      " The unique values are 2\n",
      "Number of unique values in : is_ecw \n",
      "\n",
      " The unique values are 2\n",
      "Number of unique values in : is_speed_alert \n",
      "\n",
      " The unique values are 2\n",
      "Number of unique values in : ncap_rating \n",
      "\n",
      " The unique values are 5\n",
      "Number of unique values in : is_claim \n",
      "\n",
      " The unique values are 2\n"
     ]
    }
   ],
   "source": [
    "for i in df.columns:\n",
    "    print('Number of unique values in : {} \\n\\n The unique values are {}'\n",
    "         .format(i,len(df[i].unique()), df[i].unique()))"
   ]
  },
  {
   "cell_type": "code",
   "execution_count": 22,
   "id": "fd555f10",
   "metadata": {},
   "outputs": [],
   "source": [
    "# Using Lable Encoding"
   ]
  },
  {
   "cell_type": "code",
   "execution_count": 23,
   "id": "bed7a60d",
   "metadata": {},
   "outputs": [],
   "source": [
    "from sklearn.preprocessing import LabelEncoder\n",
    "le = LabelEncoder()"
   ]
  },
  {
   "cell_type": "code",
   "execution_count": 24,
   "id": "2c9e0134",
   "metadata": {},
   "outputs": [],
   "source": [
    "df['is_adjustable_steering'] = le.fit_transform(df['is_adjustable_steering'])\n",
    "df['is_tpms'] = le.fit_transform(df['is_tpms'])\n",
    "df['is_parking_sensors'] = le.fit_transform(df['is_parking_sensors'])\n",
    "df['is_parking_camera'] = le.fit_transform(df['is_parking_camera'])\n",
    "df['rear_brakes_type'] = le.fit_transform(df['rear_brakes_type'])\n",
    "df['transmission_type'] = le.fit_transform(df['transmission_type'])\n",
    "df['steering_type'] = le.fit_transform(df['steering_type'])\n",
    "df['is_rear_window_wiper'] = le.fit_transform(df['is_rear_window_wiper'])\n",
    "df['is_rear_window_washer'] = le.fit_transform(df['is_rear_window_washer'])\n",
    "df['is_rear_window_defogger'] = le.fit_transform(df['is_rear_window_defogger'])\n",
    "df['is_brake_assist'] = le.fit_transform(df['is_brake_assist'])\n",
    "df['is_power_door_locks'] = le.fit_transform(df['is_power_door_locks'])\n",
    "df['is_central_locking'] = le.fit_transform(df['is_central_locking'])\n",
    "df['is_power_steering'] = le.fit_transform(df['is_power_steering'])\n",
    "df['is_driver_seat_height_adjustable'] = le.fit_transform(df['is_driver_seat_height_adjustable'])\n",
    "df['is_day_night_rear_view_mirror'] = le.fit_transform(df['is_day_night_rear_view_mirror'])\n",
    "df['is_ecw'] = le.fit_transform(df['is_ecw'])\n",
    "df['is_speed_alert'] = le.fit_transform(df['is_speed_alert']) "
   ]
  },
  {
   "cell_type": "code",
   "execution_count": 25,
   "id": "78f80b5f",
   "metadata": {},
   "outputs": [
    {
     "data": {
      "text/html": [
       "<div>\n",
       "<style scoped>\n",
       "    .dataframe tbody tr th:only-of-type {\n",
       "        vertical-align: middle;\n",
       "    }\n",
       "\n",
       "    .dataframe tbody tr th {\n",
       "        vertical-align: top;\n",
       "    }\n",
       "\n",
       "    .dataframe thead th {\n",
       "        text-align: right;\n",
       "    }\n",
       "</style>\n",
       "<table border=\"1\" class=\"dataframe\">\n",
       "  <thead>\n",
       "    <tr style=\"text-align: right;\">\n",
       "      <th></th>\n",
       "      <th>policy_id</th>\n",
       "      <th>policy_tenure</th>\n",
       "      <th>age_of_car</th>\n",
       "      <th>age_of_policyholder</th>\n",
       "      <th>area_cluster</th>\n",
       "      <th>population_density</th>\n",
       "      <th>make</th>\n",
       "      <th>segment</th>\n",
       "      <th>model</th>\n",
       "      <th>fuel_type</th>\n",
       "      <th>...</th>\n",
       "      <th>is_brake_assist</th>\n",
       "      <th>is_power_door_locks</th>\n",
       "      <th>is_central_locking</th>\n",
       "      <th>is_power_steering</th>\n",
       "      <th>is_driver_seat_height_adjustable</th>\n",
       "      <th>is_day_night_rear_view_mirror</th>\n",
       "      <th>is_ecw</th>\n",
       "      <th>is_speed_alert</th>\n",
       "      <th>ncap_rating</th>\n",
       "      <th>is_claim</th>\n",
       "    </tr>\n",
       "  </thead>\n",
       "  <tbody>\n",
       "    <tr>\n",
       "      <th>0</th>\n",
       "      <td>ID00001</td>\n",
       "      <td>0.515874</td>\n",
       "      <td>0.05</td>\n",
       "      <td>0.644231</td>\n",
       "      <td>C1</td>\n",
       "      <td>4990</td>\n",
       "      <td>1</td>\n",
       "      <td>A</td>\n",
       "      <td>M1</td>\n",
       "      <td>CNG</td>\n",
       "      <td>...</td>\n",
       "      <td>0</td>\n",
       "      <td>0</td>\n",
       "      <td>0</td>\n",
       "      <td>1</td>\n",
       "      <td>0</td>\n",
       "      <td>0</td>\n",
       "      <td>0</td>\n",
       "      <td>1</td>\n",
       "      <td>0</td>\n",
       "      <td>0</td>\n",
       "    </tr>\n",
       "    <tr>\n",
       "      <th>1</th>\n",
       "      <td>ID00002</td>\n",
       "      <td>0.672619</td>\n",
       "      <td>0.02</td>\n",
       "      <td>0.375000</td>\n",
       "      <td>C2</td>\n",
       "      <td>27003</td>\n",
       "      <td>1</td>\n",
       "      <td>A</td>\n",
       "      <td>M1</td>\n",
       "      <td>CNG</td>\n",
       "      <td>...</td>\n",
       "      <td>0</td>\n",
       "      <td>0</td>\n",
       "      <td>0</td>\n",
       "      <td>1</td>\n",
       "      <td>0</td>\n",
       "      <td>0</td>\n",
       "      <td>0</td>\n",
       "      <td>1</td>\n",
       "      <td>0</td>\n",
       "      <td>0</td>\n",
       "    </tr>\n",
       "    <tr>\n",
       "      <th>2</th>\n",
       "      <td>ID00003</td>\n",
       "      <td>0.841110</td>\n",
       "      <td>0.02</td>\n",
       "      <td>0.384615</td>\n",
       "      <td>C3</td>\n",
       "      <td>4076</td>\n",
       "      <td>1</td>\n",
       "      <td>A</td>\n",
       "      <td>M1</td>\n",
       "      <td>CNG</td>\n",
       "      <td>...</td>\n",
       "      <td>0</td>\n",
       "      <td>0</td>\n",
       "      <td>0</td>\n",
       "      <td>1</td>\n",
       "      <td>0</td>\n",
       "      <td>0</td>\n",
       "      <td>0</td>\n",
       "      <td>1</td>\n",
       "      <td>0</td>\n",
       "      <td>0</td>\n",
       "    </tr>\n",
       "    <tr>\n",
       "      <th>3</th>\n",
       "      <td>ID00004</td>\n",
       "      <td>0.900277</td>\n",
       "      <td>0.11</td>\n",
       "      <td>0.432692</td>\n",
       "      <td>C4</td>\n",
       "      <td>21622</td>\n",
       "      <td>1</td>\n",
       "      <td>C1</td>\n",
       "      <td>M2</td>\n",
       "      <td>Petrol</td>\n",
       "      <td>...</td>\n",
       "      <td>1</td>\n",
       "      <td>1</td>\n",
       "      <td>1</td>\n",
       "      <td>1</td>\n",
       "      <td>1</td>\n",
       "      <td>1</td>\n",
       "      <td>1</td>\n",
       "      <td>1</td>\n",
       "      <td>2</td>\n",
       "      <td>0</td>\n",
       "    </tr>\n",
       "    <tr>\n",
       "      <th>4</th>\n",
       "      <td>ID00005</td>\n",
       "      <td>0.596403</td>\n",
       "      <td>0.11</td>\n",
       "      <td>0.634615</td>\n",
       "      <td>C5</td>\n",
       "      <td>34738</td>\n",
       "      <td>2</td>\n",
       "      <td>A</td>\n",
       "      <td>M3</td>\n",
       "      <td>Petrol</td>\n",
       "      <td>...</td>\n",
       "      <td>0</td>\n",
       "      <td>1</td>\n",
       "      <td>1</td>\n",
       "      <td>1</td>\n",
       "      <td>0</td>\n",
       "      <td>1</td>\n",
       "      <td>1</td>\n",
       "      <td>1</td>\n",
       "      <td>2</td>\n",
       "      <td>0</td>\n",
       "    </tr>\n",
       "  </tbody>\n",
       "</table>\n",
       "<p>5 rows × 44 columns</p>\n",
       "</div>"
      ],
      "text/plain": [
       "  policy_id  policy_tenure  age_of_car  age_of_policyholder area_cluster  \\\n",
       "0   ID00001       0.515874        0.05             0.644231           C1   \n",
       "1   ID00002       0.672619        0.02             0.375000           C2   \n",
       "2   ID00003       0.841110        0.02             0.384615           C3   \n",
       "3   ID00004       0.900277        0.11             0.432692           C4   \n",
       "4   ID00005       0.596403        0.11             0.634615           C5   \n",
       "\n",
       "   population_density  make segment model fuel_type  ... is_brake_assist  \\\n",
       "0                4990     1       A    M1       CNG  ...               0   \n",
       "1               27003     1       A    M1       CNG  ...               0   \n",
       "2                4076     1       A    M1       CNG  ...               0   \n",
       "3               21622     1      C1    M2    Petrol  ...               1   \n",
       "4               34738     2       A    M3    Petrol  ...               0   \n",
       "\n",
       "  is_power_door_locks is_central_locking  is_power_steering  \\\n",
       "0                   0                  0                  1   \n",
       "1                   0                  0                  1   \n",
       "2                   0                  0                  1   \n",
       "3                   1                  1                  1   \n",
       "4                   1                  1                  1   \n",
       "\n",
       "  is_driver_seat_height_adjustable  is_day_night_rear_view_mirror  is_ecw  \\\n",
       "0                                0                              0       0   \n",
       "1                                0                              0       0   \n",
       "2                                0                              0       0   \n",
       "3                                1                              1       1   \n",
       "4                                0                              1       1   \n",
       "\n",
       "   is_speed_alert  ncap_rating  is_claim  \n",
       "0               1            0         0  \n",
       "1               1            0         0  \n",
       "2               1            0         0  \n",
       "3               1            2         0  \n",
       "4               1            2         0  \n",
       "\n",
       "[5 rows x 44 columns]"
      ]
     },
     "execution_count": 25,
     "metadata": {},
     "output_type": "execute_result"
    }
   ],
   "source": [
    "df.head()"
   ]
  },
  {
   "cell_type": "code",
   "execution_count": 26,
   "id": "8f7d2d42",
   "metadata": {},
   "outputs": [],
   "source": [
    "# Using One Hot Encoding"
   ]
  },
  {
   "cell_type": "code",
   "execution_count": 27,
   "id": "8232f5bd",
   "metadata": {},
   "outputs": [],
   "source": [
    "df = pd.get_dummies(df,columns=['area_cluster','segment','model','fuel_type','max_torque','max_power','engine_type','is_esc'\n",
    "                           ,'is_front_fog_lights'],drop_first = True)"
   ]
  },
  {
   "cell_type": "code",
   "execution_count": 28,
   "id": "3b52065c",
   "metadata": {},
   "outputs": [
    {
     "data": {
      "text/html": [
       "<div>\n",
       "<style scoped>\n",
       "    .dataframe tbody tr th:only-of-type {\n",
       "        vertical-align: middle;\n",
       "    }\n",
       "\n",
       "    .dataframe tbody tr th {\n",
       "        vertical-align: top;\n",
       "    }\n",
       "\n",
       "    .dataframe thead th {\n",
       "        text-align: right;\n",
       "    }\n",
       "</style>\n",
       "<table border=\"1\" class=\"dataframe\">\n",
       "  <thead>\n",
       "    <tr style=\"text-align: right;\">\n",
       "      <th></th>\n",
       "      <th>policy_id</th>\n",
       "      <th>policy_tenure</th>\n",
       "      <th>age_of_car</th>\n",
       "      <th>age_of_policyholder</th>\n",
       "      <th>population_density</th>\n",
       "      <th>make</th>\n",
       "      <th>airbags</th>\n",
       "      <th>is_adjustable_steering</th>\n",
       "      <th>is_tpms</th>\n",
       "      <th>is_parking_sensors</th>\n",
       "      <th>...</th>\n",
       "      <th>engine_type_1.5 L U2 CRDi</th>\n",
       "      <th>engine_type_1.5 Turbocharged Revotorq</th>\n",
       "      <th>engine_type_1.5 Turbocharged Revotron</th>\n",
       "      <th>engine_type_F8D Petrol Engine</th>\n",
       "      <th>engine_type_G12B</th>\n",
       "      <th>engine_type_K Series Dual jet</th>\n",
       "      <th>engine_type_K10C</th>\n",
       "      <th>engine_type_i-DTEC</th>\n",
       "      <th>is_esc_Yes</th>\n",
       "      <th>is_front_fog_lights_Yes</th>\n",
       "    </tr>\n",
       "  </thead>\n",
       "  <tbody>\n",
       "    <tr>\n",
       "      <th>0</th>\n",
       "      <td>ID00001</td>\n",
       "      <td>0.515874</td>\n",
       "      <td>0.05</td>\n",
       "      <td>0.644231</td>\n",
       "      <td>4990</td>\n",
       "      <td>1</td>\n",
       "      <td>2</td>\n",
       "      <td>0</td>\n",
       "      <td>0</td>\n",
       "      <td>1</td>\n",
       "      <td>...</td>\n",
       "      <td>0</td>\n",
       "      <td>0</td>\n",
       "      <td>0</td>\n",
       "      <td>1</td>\n",
       "      <td>0</td>\n",
       "      <td>0</td>\n",
       "      <td>0</td>\n",
       "      <td>0</td>\n",
       "      <td>0</td>\n",
       "      <td>0</td>\n",
       "    </tr>\n",
       "    <tr>\n",
       "      <th>1</th>\n",
       "      <td>ID00002</td>\n",
       "      <td>0.672619</td>\n",
       "      <td>0.02</td>\n",
       "      <td>0.375000</td>\n",
       "      <td>27003</td>\n",
       "      <td>1</td>\n",
       "      <td>2</td>\n",
       "      <td>0</td>\n",
       "      <td>0</td>\n",
       "      <td>1</td>\n",
       "      <td>...</td>\n",
       "      <td>0</td>\n",
       "      <td>0</td>\n",
       "      <td>0</td>\n",
       "      <td>1</td>\n",
       "      <td>0</td>\n",
       "      <td>0</td>\n",
       "      <td>0</td>\n",
       "      <td>0</td>\n",
       "      <td>0</td>\n",
       "      <td>0</td>\n",
       "    </tr>\n",
       "    <tr>\n",
       "      <th>2</th>\n",
       "      <td>ID00003</td>\n",
       "      <td>0.841110</td>\n",
       "      <td>0.02</td>\n",
       "      <td>0.384615</td>\n",
       "      <td>4076</td>\n",
       "      <td>1</td>\n",
       "      <td>2</td>\n",
       "      <td>0</td>\n",
       "      <td>0</td>\n",
       "      <td>1</td>\n",
       "      <td>...</td>\n",
       "      <td>0</td>\n",
       "      <td>0</td>\n",
       "      <td>0</td>\n",
       "      <td>1</td>\n",
       "      <td>0</td>\n",
       "      <td>0</td>\n",
       "      <td>0</td>\n",
       "      <td>0</td>\n",
       "      <td>0</td>\n",
       "      <td>0</td>\n",
       "    </tr>\n",
       "    <tr>\n",
       "      <th>3</th>\n",
       "      <td>ID00004</td>\n",
       "      <td>0.900277</td>\n",
       "      <td>0.11</td>\n",
       "      <td>0.432692</td>\n",
       "      <td>21622</td>\n",
       "      <td>1</td>\n",
       "      <td>2</td>\n",
       "      <td>1</td>\n",
       "      <td>0</td>\n",
       "      <td>1</td>\n",
       "      <td>...</td>\n",
       "      <td>0</td>\n",
       "      <td>0</td>\n",
       "      <td>0</td>\n",
       "      <td>0</td>\n",
       "      <td>0</td>\n",
       "      <td>0</td>\n",
       "      <td>0</td>\n",
       "      <td>0</td>\n",
       "      <td>1</td>\n",
       "      <td>1</td>\n",
       "    </tr>\n",
       "    <tr>\n",
       "      <th>4</th>\n",
       "      <td>ID00005</td>\n",
       "      <td>0.596403</td>\n",
       "      <td>0.11</td>\n",
       "      <td>0.634615</td>\n",
       "      <td>34738</td>\n",
       "      <td>2</td>\n",
       "      <td>2</td>\n",
       "      <td>0</td>\n",
       "      <td>0</td>\n",
       "      <td>0</td>\n",
       "      <td>...</td>\n",
       "      <td>0</td>\n",
       "      <td>0</td>\n",
       "      <td>0</td>\n",
       "      <td>0</td>\n",
       "      <td>0</td>\n",
       "      <td>0</td>\n",
       "      <td>0</td>\n",
       "      <td>0</td>\n",
       "      <td>0</td>\n",
       "      <td>0</td>\n",
       "    </tr>\n",
       "  </tbody>\n",
       "</table>\n",
       "<p>5 rows × 101 columns</p>\n",
       "</div>"
      ],
      "text/plain": [
       "  policy_id  policy_tenure  age_of_car  age_of_policyholder  \\\n",
       "0   ID00001       0.515874        0.05             0.644231   \n",
       "1   ID00002       0.672619        0.02             0.375000   \n",
       "2   ID00003       0.841110        0.02             0.384615   \n",
       "3   ID00004       0.900277        0.11             0.432692   \n",
       "4   ID00005       0.596403        0.11             0.634615   \n",
       "\n",
       "   population_density  make  airbags  is_adjustable_steering  is_tpms  \\\n",
       "0                4990     1        2                       0        0   \n",
       "1               27003     1        2                       0        0   \n",
       "2                4076     1        2                       0        0   \n",
       "3               21622     1        2                       1        0   \n",
       "4               34738     2        2                       0        0   \n",
       "\n",
       "   is_parking_sensors  ...  engine_type_1.5 L U2 CRDi  \\\n",
       "0                   1  ...                          0   \n",
       "1                   1  ...                          0   \n",
       "2                   1  ...                          0   \n",
       "3                   1  ...                          0   \n",
       "4                   0  ...                          0   \n",
       "\n",
       "   engine_type_1.5 Turbocharged Revotorq  \\\n",
       "0                                      0   \n",
       "1                                      0   \n",
       "2                                      0   \n",
       "3                                      0   \n",
       "4                                      0   \n",
       "\n",
       "   engine_type_1.5 Turbocharged Revotron  engine_type_F8D Petrol Engine  \\\n",
       "0                                      0                              1   \n",
       "1                                      0                              1   \n",
       "2                                      0                              1   \n",
       "3                                      0                              0   \n",
       "4                                      0                              0   \n",
       "\n",
       "   engine_type_G12B  engine_type_K Series Dual jet  engine_type_K10C  \\\n",
       "0                 0                              0                 0   \n",
       "1                 0                              0                 0   \n",
       "2                 0                              0                 0   \n",
       "3                 0                              0                 0   \n",
       "4                 0                              0                 0   \n",
       "\n",
       "   engine_type_i-DTEC  is_esc_Yes  is_front_fog_lights_Yes  \n",
       "0                   0           0                        0  \n",
       "1                   0           0                        0  \n",
       "2                   0           0                        0  \n",
       "3                   0           1                        1  \n",
       "4                   0           0                        0  \n",
       "\n",
       "[5 rows x 101 columns]"
      ]
     },
     "execution_count": 28,
     "metadata": {},
     "output_type": "execute_result"
    }
   ],
   "source": [
    "df.head()"
   ]
  },
  {
   "cell_type": "code",
   "execution_count": 29,
   "id": "510e2cb9",
   "metadata": {},
   "outputs": [],
   "source": [
    "# Converting Object to integer for target coulmn "
   ]
  },
  {
   "cell_type": "code",
   "execution_count": 30,
   "id": "1098c647",
   "metadata": {},
   "outputs": [
    {
     "data": {
      "text/plain": [
       "0        00001\n",
       "1        00002\n",
       "2        00003\n",
       "3        00004\n",
       "4        00005\n",
       "         ...  \n",
       "58587    58588\n",
       "58588    58589\n",
       "58589    58590\n",
       "58590    58591\n",
       "58591    58592\n",
       "Name: policy_id, Length: 58592, dtype: object"
      ]
     },
     "execution_count": 30,
     "metadata": {},
     "output_type": "execute_result"
    }
   ],
   "source": [
    "df['policy_id'].str.replace('ID','')"
   ]
  },
  {
   "cell_type": "code",
   "execution_count": 31,
   "id": "3edb87d8",
   "metadata": {},
   "outputs": [],
   "source": [
    "df['policy_id']=df['policy_id'].str.replace('ID','')"
   ]
  },
  {
   "cell_type": "code",
   "execution_count": 32,
   "id": "5eb4d8e1",
   "metadata": {},
   "outputs": [],
   "source": [
    "df['policy_id'] =df['policy_id'].astype(int)"
   ]
  },
  {
   "cell_type": "code",
   "execution_count": 33,
   "id": "da7b88c6",
   "metadata": {},
   "outputs": [
    {
     "name": "stdout",
     "output_type": "stream",
     "text": [
      "<class 'pandas.core.frame.DataFrame'>\n",
      "RangeIndex: 58592 entries, 0 to 58591\n",
      "Columns: 101 entries, policy_id to is_front_fog_lights_Yes\n",
      "dtypes: float64(4), int32(19), int64(12), uint8(66)\n",
      "memory usage: 15.1 MB\n"
     ]
    }
   ],
   "source": [
    "df.info()"
   ]
  },
  {
   "cell_type": "code",
   "execution_count": 34,
   "id": "829cbadc",
   "metadata": {},
   "outputs": [
    {
     "data": {
      "text/html": [
       "<div>\n",
       "<style scoped>\n",
       "    .dataframe tbody tr th:only-of-type {\n",
       "        vertical-align: middle;\n",
       "    }\n",
       "\n",
       "    .dataframe tbody tr th {\n",
       "        vertical-align: top;\n",
       "    }\n",
       "\n",
       "    .dataframe thead th {\n",
       "        text-align: right;\n",
       "    }\n",
       "</style>\n",
       "<table border=\"1\" class=\"dataframe\">\n",
       "  <thead>\n",
       "    <tr style=\"text-align: right;\">\n",
       "      <th></th>\n",
       "      <th>policy_id</th>\n",
       "      <th>policy_tenure</th>\n",
       "      <th>age_of_car</th>\n",
       "      <th>age_of_policyholder</th>\n",
       "      <th>population_density</th>\n",
       "      <th>make</th>\n",
       "      <th>airbags</th>\n",
       "      <th>is_adjustable_steering</th>\n",
       "      <th>is_tpms</th>\n",
       "      <th>is_parking_sensors</th>\n",
       "      <th>...</th>\n",
       "      <th>engine_type_1.5 L U2 CRDi</th>\n",
       "      <th>engine_type_1.5 Turbocharged Revotorq</th>\n",
       "      <th>engine_type_1.5 Turbocharged Revotron</th>\n",
       "      <th>engine_type_F8D Petrol Engine</th>\n",
       "      <th>engine_type_G12B</th>\n",
       "      <th>engine_type_K Series Dual jet</th>\n",
       "      <th>engine_type_K10C</th>\n",
       "      <th>engine_type_i-DTEC</th>\n",
       "      <th>is_esc_Yes</th>\n",
       "      <th>is_front_fog_lights_Yes</th>\n",
       "    </tr>\n",
       "  </thead>\n",
       "  <tbody>\n",
       "    <tr>\n",
       "      <th>0</th>\n",
       "      <td>1</td>\n",
       "      <td>0.515874</td>\n",
       "      <td>0.05</td>\n",
       "      <td>0.644231</td>\n",
       "      <td>4990</td>\n",
       "      <td>1</td>\n",
       "      <td>2</td>\n",
       "      <td>0</td>\n",
       "      <td>0</td>\n",
       "      <td>1</td>\n",
       "      <td>...</td>\n",
       "      <td>0</td>\n",
       "      <td>0</td>\n",
       "      <td>0</td>\n",
       "      <td>1</td>\n",
       "      <td>0</td>\n",
       "      <td>0</td>\n",
       "      <td>0</td>\n",
       "      <td>0</td>\n",
       "      <td>0</td>\n",
       "      <td>0</td>\n",
       "    </tr>\n",
       "    <tr>\n",
       "      <th>1</th>\n",
       "      <td>2</td>\n",
       "      <td>0.672619</td>\n",
       "      <td>0.02</td>\n",
       "      <td>0.375000</td>\n",
       "      <td>27003</td>\n",
       "      <td>1</td>\n",
       "      <td>2</td>\n",
       "      <td>0</td>\n",
       "      <td>0</td>\n",
       "      <td>1</td>\n",
       "      <td>...</td>\n",
       "      <td>0</td>\n",
       "      <td>0</td>\n",
       "      <td>0</td>\n",
       "      <td>1</td>\n",
       "      <td>0</td>\n",
       "      <td>0</td>\n",
       "      <td>0</td>\n",
       "      <td>0</td>\n",
       "      <td>0</td>\n",
       "      <td>0</td>\n",
       "    </tr>\n",
       "    <tr>\n",
       "      <th>2</th>\n",
       "      <td>3</td>\n",
       "      <td>0.841110</td>\n",
       "      <td>0.02</td>\n",
       "      <td>0.384615</td>\n",
       "      <td>4076</td>\n",
       "      <td>1</td>\n",
       "      <td>2</td>\n",
       "      <td>0</td>\n",
       "      <td>0</td>\n",
       "      <td>1</td>\n",
       "      <td>...</td>\n",
       "      <td>0</td>\n",
       "      <td>0</td>\n",
       "      <td>0</td>\n",
       "      <td>1</td>\n",
       "      <td>0</td>\n",
       "      <td>0</td>\n",
       "      <td>0</td>\n",
       "      <td>0</td>\n",
       "      <td>0</td>\n",
       "      <td>0</td>\n",
       "    </tr>\n",
       "    <tr>\n",
       "      <th>3</th>\n",
       "      <td>4</td>\n",
       "      <td>0.900277</td>\n",
       "      <td>0.11</td>\n",
       "      <td>0.432692</td>\n",
       "      <td>21622</td>\n",
       "      <td>1</td>\n",
       "      <td>2</td>\n",
       "      <td>1</td>\n",
       "      <td>0</td>\n",
       "      <td>1</td>\n",
       "      <td>...</td>\n",
       "      <td>0</td>\n",
       "      <td>0</td>\n",
       "      <td>0</td>\n",
       "      <td>0</td>\n",
       "      <td>0</td>\n",
       "      <td>0</td>\n",
       "      <td>0</td>\n",
       "      <td>0</td>\n",
       "      <td>1</td>\n",
       "      <td>1</td>\n",
       "    </tr>\n",
       "    <tr>\n",
       "      <th>4</th>\n",
       "      <td>5</td>\n",
       "      <td>0.596403</td>\n",
       "      <td>0.11</td>\n",
       "      <td>0.634615</td>\n",
       "      <td>34738</td>\n",
       "      <td>2</td>\n",
       "      <td>2</td>\n",
       "      <td>0</td>\n",
       "      <td>0</td>\n",
       "      <td>0</td>\n",
       "      <td>...</td>\n",
       "      <td>0</td>\n",
       "      <td>0</td>\n",
       "      <td>0</td>\n",
       "      <td>0</td>\n",
       "      <td>0</td>\n",
       "      <td>0</td>\n",
       "      <td>0</td>\n",
       "      <td>0</td>\n",
       "      <td>0</td>\n",
       "      <td>0</td>\n",
       "    </tr>\n",
       "  </tbody>\n",
       "</table>\n",
       "<p>5 rows × 101 columns</p>\n",
       "</div>"
      ],
      "text/plain": [
       "   policy_id  policy_tenure  age_of_car  age_of_policyholder  \\\n",
       "0          1       0.515874        0.05             0.644231   \n",
       "1          2       0.672619        0.02             0.375000   \n",
       "2          3       0.841110        0.02             0.384615   \n",
       "3          4       0.900277        0.11             0.432692   \n",
       "4          5       0.596403        0.11             0.634615   \n",
       "\n",
       "   population_density  make  airbags  is_adjustable_steering  is_tpms  \\\n",
       "0                4990     1        2                       0        0   \n",
       "1               27003     1        2                       0        0   \n",
       "2                4076     1        2                       0        0   \n",
       "3               21622     1        2                       1        0   \n",
       "4               34738     2        2                       0        0   \n",
       "\n",
       "   is_parking_sensors  ...  engine_type_1.5 L U2 CRDi  \\\n",
       "0                   1  ...                          0   \n",
       "1                   1  ...                          0   \n",
       "2                   1  ...                          0   \n",
       "3                   1  ...                          0   \n",
       "4                   0  ...                          0   \n",
       "\n",
       "   engine_type_1.5 Turbocharged Revotorq  \\\n",
       "0                                      0   \n",
       "1                                      0   \n",
       "2                                      0   \n",
       "3                                      0   \n",
       "4                                      0   \n",
       "\n",
       "   engine_type_1.5 Turbocharged Revotron  engine_type_F8D Petrol Engine  \\\n",
       "0                                      0                              1   \n",
       "1                                      0                              1   \n",
       "2                                      0                              1   \n",
       "3                                      0                              0   \n",
       "4                                      0                              0   \n",
       "\n",
       "   engine_type_G12B  engine_type_K Series Dual jet  engine_type_K10C  \\\n",
       "0                 0                              0                 0   \n",
       "1                 0                              0                 0   \n",
       "2                 0                              0                 0   \n",
       "3                 0                              0                 0   \n",
       "4                 0                              0                 0   \n",
       "\n",
       "   engine_type_i-DTEC  is_esc_Yes  is_front_fog_lights_Yes  \n",
       "0                   0           0                        0  \n",
       "1                   0           0                        0  \n",
       "2                   0           0                        0  \n",
       "3                   0           1                        1  \n",
       "4                   0           0                        0  \n",
       "\n",
       "[5 rows x 101 columns]"
      ]
     },
     "execution_count": 34,
     "metadata": {},
     "output_type": "execute_result"
    }
   ],
   "source": [
    "df.head()"
   ]
  },
  {
   "cell_type": "code",
   "execution_count": 35,
   "id": "b7a8ae9f",
   "metadata": {},
   "outputs": [],
   "source": [
    "# Spelliting the data into x and y \n",
    "# Droping target variable"
   ]
  },
  {
   "cell_type": "code",
   "execution_count": 36,
   "id": "713e2e6f",
   "metadata": {},
   "outputs": [],
   "source": [
    "x = df.drop(columns=['is_claim','age_of_policyholder','population_density'],axis=1)\n",
    "y = df['is_claim']"
   ]
  },
  {
   "cell_type": "code",
   "execution_count": 37,
   "id": "97946e5f",
   "metadata": {},
   "outputs": [],
   "source": [
    "from imblearn.over_sampling import SMOTE"
   ]
  },
  {
   "cell_type": "code",
   "execution_count": 38,
   "id": "30f5fb72",
   "metadata": {},
   "outputs": [],
   "source": [
    "from sklearn.model_selection import train_test_split\n",
    "from sklearn.datasets import make_classification\n",
    "from sklearn.metrics import classification_report\n",
    "x,y = make_classification(n_samples=5000, n_features=10, n_informative=10, n_redundant=0)\n",
    "x_train, x_test, y_train, y_test = train_test_split(x, y, test_size=0.20, random_state = 123)"
   ]
  },
  {
   "cell_type": "code",
   "execution_count": 39,
   "id": "cea2d306",
   "metadata": {},
   "outputs": [],
   "source": [
    "# SMOTE is used due to imbalanced dataset"
   ]
  },
  {
   "cell_type": "code",
   "execution_count": 40,
   "id": "2ac3b633",
   "metadata": {},
   "outputs": [
    {
     "data": {
      "text/plain": [
       "array([2000, 2000], dtype=int64)"
      ]
     },
     "execution_count": 40,
     "metadata": {},
     "output_type": "execute_result"
    }
   ],
   "source": [
    "smt = SMOTE()\n",
    "x_train, y_train = smt.fit_resample(x_train, y_train)\n",
    "np.bincount(y_train)"
   ]
  },
  {
   "cell_type": "code",
   "execution_count": 41,
   "id": "62c29518",
   "metadata": {},
   "outputs": [],
   "source": [
    "from sklearn.metrics import confusion_matrix, classification_report, accuracy_score\n",
    "from sklearn.ensemble import RandomForestClassifier\n",
    "from sklearn.model_selection import GridSearchCV\n",
    "rf = RandomForestClassifier()"
   ]
  },
  {
   "cell_type": "code",
   "execution_count": 42,
   "id": "e2a9dc49",
   "metadata": {},
   "outputs": [],
   "source": [
    "# Applying Random Forest \n",
    "# Confusion Matrix\n",
    "# classification_report\n",
    "# accuracy_score"
   ]
  },
  {
   "cell_type": "code",
   "execution_count": 43,
   "id": "c1aeedf2",
   "metadata": {},
   "outputs": [
    {
     "name": "stdout",
     "output_type": "stream",
     "text": [
      "[[2000    0]\n",
      " [   0 2000]]\n",
      "\n",
      "[[462  33]\n",
      " [ 27 478]]\n",
      "\n",
      "              precision    recall  f1-score   support\n",
      "\n",
      "           0       1.00      1.00      1.00      2000\n",
      "           1       1.00      1.00      1.00      2000\n",
      "\n",
      "    accuracy                           1.00      4000\n",
      "   macro avg       1.00      1.00      1.00      4000\n",
      "weighted avg       1.00      1.00      1.00      4000\n",
      "\n",
      "\n",
      "              precision    recall  f1-score   support\n",
      "\n",
      "           0       0.94      0.93      0.94       495\n",
      "           1       0.94      0.95      0.94       505\n",
      "\n",
      "    accuracy                           0.94      1000\n",
      "   macro avg       0.94      0.94      0.94      1000\n",
      "weighted avg       0.94      0.94      0.94      1000\n",
      "\n",
      "\n",
      "Train Accuracy 1.0\n",
      "\n",
      "Test Accuracy 0.94\n"
     ]
    }
   ],
   "source": [
    "rforest = RandomForestClassifier()\n",
    "rf = rforest.fit(x_train, y_train)\n",
    "y_pred_train_rf = rforest.predict(x_train)\n",
    "y_pred_test_rf = rforest.predict(x_test)\n",
    "\n",
    "print(confusion_matrix(y_train, y_pred_train_rf))\n",
    "print()\n",
    "print(confusion_matrix(y_test, y_pred_test_rf))\n",
    "print()\n",
    "\n",
    "print(classification_report(y_train, y_pred_train_rf))\n",
    "print()\n",
    "print(classification_report(y_test, y_pred_test_rf))\n",
    "print()\n",
    "\n",
    "print(\"Train Accuracy\", accuracy_score(y_train, y_pred_train_rf))\n",
    "print()\n",
    "print(\"Test Accuracy\", accuracy_score(y_test, y_pred_test_rf))"
   ]
  },
  {
   "cell_type": "code",
   "execution_count": 44,
   "id": "491f9806",
   "metadata": {},
   "outputs": [],
   "source": [
    "# Training accuracy is 1 due to overfitting and we can handle this by using Grid Search CV"
   ]
  },
  {
   "cell_type": "code",
   "execution_count": 45,
   "id": "ffec6c18",
   "metadata": {},
   "outputs": [],
   "source": [
    "param_grid = {'n_estimators':[3,5,7],\n",
    "              'max_depth' :[10,50,100],\n",
    "              'min_samples_split' : [30,150,300],\n",
    "              'min_samples_leaf': [10,50,100],\n",
    "              'bootstrap' : [True, False],\n",
    "             'max_features':['sqrt','log2']}"
   ]
  },
  {
   "cell_type": "code",
   "execution_count": 46,
   "id": "0d828c8f",
   "metadata": {},
   "outputs": [],
   "source": [
    "Grid_search = GridSearchCV(estimator=rf,\n",
    "                           param_grid = param_grid,\n",
    "                           cv=5,\n",
    "                           n_jobs = -1,\n",
    "                           verbose=2,\n",
    "                           scoring='recall')"
   ]
  },
  {
   "cell_type": "code",
   "execution_count": 47,
   "id": "cce7ccaa",
   "metadata": {},
   "outputs": [
    {
     "name": "stdout",
     "output_type": "stream",
     "text": [
      "Fitting 5 folds for each of 324 candidates, totalling 1620 fits\n"
     ]
    },
    {
     "data": {
      "text/html": [
       "<style>#sk-container-id-1 {color: black;}#sk-container-id-1 pre{padding: 0;}#sk-container-id-1 div.sk-toggleable {background-color: white;}#sk-container-id-1 label.sk-toggleable__label {cursor: pointer;display: block;width: 100%;margin-bottom: 0;padding: 0.3em;box-sizing: border-box;text-align: center;}#sk-container-id-1 label.sk-toggleable__label-arrow:before {content: \"▸\";float: left;margin-right: 0.25em;color: #696969;}#sk-container-id-1 label.sk-toggleable__label-arrow:hover:before {color: black;}#sk-container-id-1 div.sk-estimator:hover label.sk-toggleable__label-arrow:before {color: black;}#sk-container-id-1 div.sk-toggleable__content {max-height: 0;max-width: 0;overflow: hidden;text-align: left;background-color: #f0f8ff;}#sk-container-id-1 div.sk-toggleable__content pre {margin: 0.2em;color: black;border-radius: 0.25em;background-color: #f0f8ff;}#sk-container-id-1 input.sk-toggleable__control:checked~div.sk-toggleable__content {max-height: 200px;max-width: 100%;overflow: auto;}#sk-container-id-1 input.sk-toggleable__control:checked~label.sk-toggleable__label-arrow:before {content: \"▾\";}#sk-container-id-1 div.sk-estimator input.sk-toggleable__control:checked~label.sk-toggleable__label {background-color: #d4ebff;}#sk-container-id-1 div.sk-label input.sk-toggleable__control:checked~label.sk-toggleable__label {background-color: #d4ebff;}#sk-container-id-1 input.sk-hidden--visually {border: 0;clip: rect(1px 1px 1px 1px);clip: rect(1px, 1px, 1px, 1px);height: 1px;margin: -1px;overflow: hidden;padding: 0;position: absolute;width: 1px;}#sk-container-id-1 div.sk-estimator {font-family: monospace;background-color: #f0f8ff;border: 1px dotted black;border-radius: 0.25em;box-sizing: border-box;margin-bottom: 0.5em;}#sk-container-id-1 div.sk-estimator:hover {background-color: #d4ebff;}#sk-container-id-1 div.sk-parallel-item::after {content: \"\";width: 100%;border-bottom: 1px solid gray;flex-grow: 1;}#sk-container-id-1 div.sk-label:hover label.sk-toggleable__label {background-color: #d4ebff;}#sk-container-id-1 div.sk-serial::before {content: \"\";position: absolute;border-left: 1px solid gray;box-sizing: border-box;top: 0;bottom: 0;left: 50%;z-index: 0;}#sk-container-id-1 div.sk-serial {display: flex;flex-direction: column;align-items: center;background-color: white;padding-right: 0.2em;padding-left: 0.2em;position: relative;}#sk-container-id-1 div.sk-item {position: relative;z-index: 1;}#sk-container-id-1 div.sk-parallel {display: flex;align-items: stretch;justify-content: center;background-color: white;position: relative;}#sk-container-id-1 div.sk-item::before, #sk-container-id-1 div.sk-parallel-item::before {content: \"\";position: absolute;border-left: 1px solid gray;box-sizing: border-box;top: 0;bottom: 0;left: 50%;z-index: -1;}#sk-container-id-1 div.sk-parallel-item {display: flex;flex-direction: column;z-index: 1;position: relative;background-color: white;}#sk-container-id-1 div.sk-parallel-item:first-child::after {align-self: flex-end;width: 50%;}#sk-container-id-1 div.sk-parallel-item:last-child::after {align-self: flex-start;width: 50%;}#sk-container-id-1 div.sk-parallel-item:only-child::after {width: 0;}#sk-container-id-1 div.sk-dashed-wrapped {border: 1px dashed gray;margin: 0 0.4em 0.5em 0.4em;box-sizing: border-box;padding-bottom: 0.4em;background-color: white;}#sk-container-id-1 div.sk-label label {font-family: monospace;font-weight: bold;display: inline-block;line-height: 1.2em;}#sk-container-id-1 div.sk-label-container {text-align: center;}#sk-container-id-1 div.sk-container {/* jupyter's `normalize.less` sets `[hidden] { display: none; }` but bootstrap.min.css set `[hidden] { display: none !important; }` so we also need the `!important` here to be able to override the default hidden behavior on the sphinx rendered scikit-learn.org. See: https://github.com/scikit-learn/scikit-learn/issues/21755 */display: inline-block !important;position: relative;}#sk-container-id-1 div.sk-text-repr-fallback {display: none;}</style><div id=\"sk-container-id-1\" class=\"sk-top-container\"><div class=\"sk-text-repr-fallback\"><pre>GridSearchCV(cv=5, estimator=RandomForestClassifier(), n_jobs=-1,\n",
       "             param_grid={&#x27;bootstrap&#x27;: [True, False], &#x27;max_depth&#x27;: [10, 50, 100],\n",
       "                         &#x27;max_features&#x27;: [&#x27;sqrt&#x27;, &#x27;log2&#x27;],\n",
       "                         &#x27;min_samples_leaf&#x27;: [10, 50, 100],\n",
       "                         &#x27;min_samples_split&#x27;: [30, 150, 300],\n",
       "                         &#x27;n_estimators&#x27;: [3, 5, 7]},\n",
       "             scoring=&#x27;recall&#x27;, verbose=2)</pre><b>In a Jupyter environment, please rerun this cell to show the HTML representation or trust the notebook. <br />On GitHub, the HTML representation is unable to render, please try loading this page with nbviewer.org.</b></div><div class=\"sk-container\" hidden><div class=\"sk-item sk-dashed-wrapped\"><div class=\"sk-label-container\"><div class=\"sk-label sk-toggleable\"><input class=\"sk-toggleable__control sk-hidden--visually\" id=\"sk-estimator-id-1\" type=\"checkbox\" ><label for=\"sk-estimator-id-1\" class=\"sk-toggleable__label sk-toggleable__label-arrow\">GridSearchCV</label><div class=\"sk-toggleable__content\"><pre>GridSearchCV(cv=5, estimator=RandomForestClassifier(), n_jobs=-1,\n",
       "             param_grid={&#x27;bootstrap&#x27;: [True, False], &#x27;max_depth&#x27;: [10, 50, 100],\n",
       "                         &#x27;max_features&#x27;: [&#x27;sqrt&#x27;, &#x27;log2&#x27;],\n",
       "                         &#x27;min_samples_leaf&#x27;: [10, 50, 100],\n",
       "                         &#x27;min_samples_split&#x27;: [30, 150, 300],\n",
       "                         &#x27;n_estimators&#x27;: [3, 5, 7]},\n",
       "             scoring=&#x27;recall&#x27;, verbose=2)</pre></div></div></div><div class=\"sk-parallel\"><div class=\"sk-parallel-item\"><div class=\"sk-item\"><div class=\"sk-label-container\"><div class=\"sk-label sk-toggleable\"><input class=\"sk-toggleable__control sk-hidden--visually\" id=\"sk-estimator-id-2\" type=\"checkbox\" ><label for=\"sk-estimator-id-2\" class=\"sk-toggleable__label sk-toggleable__label-arrow\">estimator: RandomForestClassifier</label><div class=\"sk-toggleable__content\"><pre>RandomForestClassifier()</pre></div></div></div><div class=\"sk-serial\"><div class=\"sk-item\"><div class=\"sk-estimator sk-toggleable\"><input class=\"sk-toggleable__control sk-hidden--visually\" id=\"sk-estimator-id-3\" type=\"checkbox\" ><label for=\"sk-estimator-id-3\" class=\"sk-toggleable__label sk-toggleable__label-arrow\">RandomForestClassifier</label><div class=\"sk-toggleable__content\"><pre>RandomForestClassifier()</pre></div></div></div></div></div></div></div></div></div></div>"
      ],
      "text/plain": [
       "GridSearchCV(cv=5, estimator=RandomForestClassifier(), n_jobs=-1,\n",
       "             param_grid={'bootstrap': [True, False], 'max_depth': [10, 50, 100],\n",
       "                         'max_features': ['sqrt', 'log2'],\n",
       "                         'min_samples_leaf': [10, 50, 100],\n",
       "                         'min_samples_split': [30, 150, 300],\n",
       "                         'n_estimators': [3, 5, 7]},\n",
       "             scoring='recall', verbose=2)"
      ]
     },
     "execution_count": 47,
     "metadata": {},
     "output_type": "execute_result"
    }
   ],
   "source": [
    "Grid_search.fit(x_train,y_train)"
   ]
  },
  {
   "cell_type": "code",
   "execution_count": 48,
   "id": "56fec344",
   "metadata": {},
   "outputs": [],
   "source": [
    "# Getting the best parameters to use for prediction"
   ]
  },
  {
   "cell_type": "code",
   "execution_count": 49,
   "id": "e7785cd8",
   "metadata": {
    "scrolled": true
   },
   "outputs": [
    {
     "data": {
      "text/plain": [
       "{'bootstrap': False,\n",
       " 'max_depth': 100,\n",
       " 'max_features': 'sqrt',\n",
       " 'min_samples_leaf': 10,\n",
       " 'min_samples_split': 30,\n",
       " 'n_estimators': 7}"
      ]
     },
     "execution_count": 49,
     "metadata": {},
     "output_type": "execute_result"
    }
   ],
   "source": [
    "Grid_search.best_params_"
   ]
  },
  {
   "cell_type": "code",
   "execution_count": 50,
   "id": "16ec95ec",
   "metadata": {},
   "outputs": [
    {
     "name": "stdout",
     "output_type": "stream",
     "text": [
      "Fitting 5 folds for each of 324 candidates, totalling 1620 fits\n"
     ]
    },
    {
     "data": {
      "text/html": [
       "<style>#sk-container-id-2 {color: black;}#sk-container-id-2 pre{padding: 0;}#sk-container-id-2 div.sk-toggleable {background-color: white;}#sk-container-id-2 label.sk-toggleable__label {cursor: pointer;display: block;width: 100%;margin-bottom: 0;padding: 0.3em;box-sizing: border-box;text-align: center;}#sk-container-id-2 label.sk-toggleable__label-arrow:before {content: \"▸\";float: left;margin-right: 0.25em;color: #696969;}#sk-container-id-2 label.sk-toggleable__label-arrow:hover:before {color: black;}#sk-container-id-2 div.sk-estimator:hover label.sk-toggleable__label-arrow:before {color: black;}#sk-container-id-2 div.sk-toggleable__content {max-height: 0;max-width: 0;overflow: hidden;text-align: left;background-color: #f0f8ff;}#sk-container-id-2 div.sk-toggleable__content pre {margin: 0.2em;color: black;border-radius: 0.25em;background-color: #f0f8ff;}#sk-container-id-2 input.sk-toggleable__control:checked~div.sk-toggleable__content {max-height: 200px;max-width: 100%;overflow: auto;}#sk-container-id-2 input.sk-toggleable__control:checked~label.sk-toggleable__label-arrow:before {content: \"▾\";}#sk-container-id-2 div.sk-estimator input.sk-toggleable__control:checked~label.sk-toggleable__label {background-color: #d4ebff;}#sk-container-id-2 div.sk-label input.sk-toggleable__control:checked~label.sk-toggleable__label {background-color: #d4ebff;}#sk-container-id-2 input.sk-hidden--visually {border: 0;clip: rect(1px 1px 1px 1px);clip: rect(1px, 1px, 1px, 1px);height: 1px;margin: -1px;overflow: hidden;padding: 0;position: absolute;width: 1px;}#sk-container-id-2 div.sk-estimator {font-family: monospace;background-color: #f0f8ff;border: 1px dotted black;border-radius: 0.25em;box-sizing: border-box;margin-bottom: 0.5em;}#sk-container-id-2 div.sk-estimator:hover {background-color: #d4ebff;}#sk-container-id-2 div.sk-parallel-item::after {content: \"\";width: 100%;border-bottom: 1px solid gray;flex-grow: 1;}#sk-container-id-2 div.sk-label:hover label.sk-toggleable__label {background-color: #d4ebff;}#sk-container-id-2 div.sk-serial::before {content: \"\";position: absolute;border-left: 1px solid gray;box-sizing: border-box;top: 0;bottom: 0;left: 50%;z-index: 0;}#sk-container-id-2 div.sk-serial {display: flex;flex-direction: column;align-items: center;background-color: white;padding-right: 0.2em;padding-left: 0.2em;position: relative;}#sk-container-id-2 div.sk-item {position: relative;z-index: 1;}#sk-container-id-2 div.sk-parallel {display: flex;align-items: stretch;justify-content: center;background-color: white;position: relative;}#sk-container-id-2 div.sk-item::before, #sk-container-id-2 div.sk-parallel-item::before {content: \"\";position: absolute;border-left: 1px solid gray;box-sizing: border-box;top: 0;bottom: 0;left: 50%;z-index: -1;}#sk-container-id-2 div.sk-parallel-item {display: flex;flex-direction: column;z-index: 1;position: relative;background-color: white;}#sk-container-id-2 div.sk-parallel-item:first-child::after {align-self: flex-end;width: 50%;}#sk-container-id-2 div.sk-parallel-item:last-child::after {align-self: flex-start;width: 50%;}#sk-container-id-2 div.sk-parallel-item:only-child::after {width: 0;}#sk-container-id-2 div.sk-dashed-wrapped {border: 1px dashed gray;margin: 0 0.4em 0.5em 0.4em;box-sizing: border-box;padding-bottom: 0.4em;background-color: white;}#sk-container-id-2 div.sk-label label {font-family: monospace;font-weight: bold;display: inline-block;line-height: 1.2em;}#sk-container-id-2 div.sk-label-container {text-align: center;}#sk-container-id-2 div.sk-container {/* jupyter's `normalize.less` sets `[hidden] { display: none; }` but bootstrap.min.css set `[hidden] { display: none !important; }` so we also need the `!important` here to be able to override the default hidden behavior on the sphinx rendered scikit-learn.org. See: https://github.com/scikit-learn/scikit-learn/issues/21755 */display: inline-block !important;position: relative;}#sk-container-id-2 div.sk-text-repr-fallback {display: none;}</style><div id=\"sk-container-id-2\" class=\"sk-top-container\"><div class=\"sk-text-repr-fallback\"><pre>GridSearchCV(cv=5, estimator=RandomForestClassifier(), n_jobs=-1,\n",
       "             param_grid={&#x27;bootstrap&#x27;: [True, False], &#x27;max_depth&#x27;: [10, 50, 100],\n",
       "                         &#x27;max_features&#x27;: [&#x27;sqrt&#x27;, &#x27;log2&#x27;],\n",
       "                         &#x27;min_samples_leaf&#x27;: [10, 50, 100],\n",
       "                         &#x27;min_samples_split&#x27;: [30, 150, 300],\n",
       "                         &#x27;n_estimators&#x27;: [3, 5, 7]},\n",
       "             scoring=&#x27;recall&#x27;, verbose=2)</pre><b>In a Jupyter environment, please rerun this cell to show the HTML representation or trust the notebook. <br />On GitHub, the HTML representation is unable to render, please try loading this page with nbviewer.org.</b></div><div class=\"sk-container\" hidden><div class=\"sk-item sk-dashed-wrapped\"><div class=\"sk-label-container\"><div class=\"sk-label sk-toggleable\"><input class=\"sk-toggleable__control sk-hidden--visually\" id=\"sk-estimator-id-4\" type=\"checkbox\" ><label for=\"sk-estimator-id-4\" class=\"sk-toggleable__label sk-toggleable__label-arrow\">GridSearchCV</label><div class=\"sk-toggleable__content\"><pre>GridSearchCV(cv=5, estimator=RandomForestClassifier(), n_jobs=-1,\n",
       "             param_grid={&#x27;bootstrap&#x27;: [True, False], &#x27;max_depth&#x27;: [10, 50, 100],\n",
       "                         &#x27;max_features&#x27;: [&#x27;sqrt&#x27;, &#x27;log2&#x27;],\n",
       "                         &#x27;min_samples_leaf&#x27;: [10, 50, 100],\n",
       "                         &#x27;min_samples_split&#x27;: [30, 150, 300],\n",
       "                         &#x27;n_estimators&#x27;: [3, 5, 7]},\n",
       "             scoring=&#x27;recall&#x27;, verbose=2)</pre></div></div></div><div class=\"sk-parallel\"><div class=\"sk-parallel-item\"><div class=\"sk-item\"><div class=\"sk-label-container\"><div class=\"sk-label sk-toggleable\"><input class=\"sk-toggleable__control sk-hidden--visually\" id=\"sk-estimator-id-5\" type=\"checkbox\" ><label for=\"sk-estimator-id-5\" class=\"sk-toggleable__label sk-toggleable__label-arrow\">estimator: RandomForestClassifier</label><div class=\"sk-toggleable__content\"><pre>RandomForestClassifier()</pre></div></div></div><div class=\"sk-serial\"><div class=\"sk-item\"><div class=\"sk-estimator sk-toggleable\"><input class=\"sk-toggleable__control sk-hidden--visually\" id=\"sk-estimator-id-6\" type=\"checkbox\" ><label for=\"sk-estimator-id-6\" class=\"sk-toggleable__label sk-toggleable__label-arrow\">RandomForestClassifier</label><div class=\"sk-toggleable__content\"><pre>RandomForestClassifier()</pre></div></div></div></div></div></div></div></div></div></div>"
      ],
      "text/plain": [
       "GridSearchCV(cv=5, estimator=RandomForestClassifier(), n_jobs=-1,\n",
       "             param_grid={'bootstrap': [True, False], 'max_depth': [10, 50, 100],\n",
       "                         'max_features': ['sqrt', 'log2'],\n",
       "                         'min_samples_leaf': [10, 50, 100],\n",
       "                         'min_samples_split': [30, 150, 300],\n",
       "                         'n_estimators': [3, 5, 7]},\n",
       "             scoring='recall', verbose=2)"
      ]
     },
     "execution_count": 50,
     "metadata": {},
     "output_type": "execute_result"
    }
   ],
   "source": [
    "Grid_search.fit(x_train,y_train)"
   ]
  },
  {
   "cell_type": "code",
   "execution_count": 51,
   "id": "dcc7590f",
   "metadata": {},
   "outputs": [
    {
     "name": "stdout",
     "output_type": "stream",
     "text": [
      "Fitting 5 folds for each of 324 candidates, totalling 1620 fits\n"
     ]
    },
    {
     "data": {
      "text/html": [
       "<style>#sk-container-id-3 {color: black;}#sk-container-id-3 pre{padding: 0;}#sk-container-id-3 div.sk-toggleable {background-color: white;}#sk-container-id-3 label.sk-toggleable__label {cursor: pointer;display: block;width: 100%;margin-bottom: 0;padding: 0.3em;box-sizing: border-box;text-align: center;}#sk-container-id-3 label.sk-toggleable__label-arrow:before {content: \"▸\";float: left;margin-right: 0.25em;color: #696969;}#sk-container-id-3 label.sk-toggleable__label-arrow:hover:before {color: black;}#sk-container-id-3 div.sk-estimator:hover label.sk-toggleable__label-arrow:before {color: black;}#sk-container-id-3 div.sk-toggleable__content {max-height: 0;max-width: 0;overflow: hidden;text-align: left;background-color: #f0f8ff;}#sk-container-id-3 div.sk-toggleable__content pre {margin: 0.2em;color: black;border-radius: 0.25em;background-color: #f0f8ff;}#sk-container-id-3 input.sk-toggleable__control:checked~div.sk-toggleable__content {max-height: 200px;max-width: 100%;overflow: auto;}#sk-container-id-3 input.sk-toggleable__control:checked~label.sk-toggleable__label-arrow:before {content: \"▾\";}#sk-container-id-3 div.sk-estimator input.sk-toggleable__control:checked~label.sk-toggleable__label {background-color: #d4ebff;}#sk-container-id-3 div.sk-label input.sk-toggleable__control:checked~label.sk-toggleable__label {background-color: #d4ebff;}#sk-container-id-3 input.sk-hidden--visually {border: 0;clip: rect(1px 1px 1px 1px);clip: rect(1px, 1px, 1px, 1px);height: 1px;margin: -1px;overflow: hidden;padding: 0;position: absolute;width: 1px;}#sk-container-id-3 div.sk-estimator {font-family: monospace;background-color: #f0f8ff;border: 1px dotted black;border-radius: 0.25em;box-sizing: border-box;margin-bottom: 0.5em;}#sk-container-id-3 div.sk-estimator:hover {background-color: #d4ebff;}#sk-container-id-3 div.sk-parallel-item::after {content: \"\";width: 100%;border-bottom: 1px solid gray;flex-grow: 1;}#sk-container-id-3 div.sk-label:hover label.sk-toggleable__label {background-color: #d4ebff;}#sk-container-id-3 div.sk-serial::before {content: \"\";position: absolute;border-left: 1px solid gray;box-sizing: border-box;top: 0;bottom: 0;left: 50%;z-index: 0;}#sk-container-id-3 div.sk-serial {display: flex;flex-direction: column;align-items: center;background-color: white;padding-right: 0.2em;padding-left: 0.2em;position: relative;}#sk-container-id-3 div.sk-item {position: relative;z-index: 1;}#sk-container-id-3 div.sk-parallel {display: flex;align-items: stretch;justify-content: center;background-color: white;position: relative;}#sk-container-id-3 div.sk-item::before, #sk-container-id-3 div.sk-parallel-item::before {content: \"\";position: absolute;border-left: 1px solid gray;box-sizing: border-box;top: 0;bottom: 0;left: 50%;z-index: -1;}#sk-container-id-3 div.sk-parallel-item {display: flex;flex-direction: column;z-index: 1;position: relative;background-color: white;}#sk-container-id-3 div.sk-parallel-item:first-child::after {align-self: flex-end;width: 50%;}#sk-container-id-3 div.sk-parallel-item:last-child::after {align-self: flex-start;width: 50%;}#sk-container-id-3 div.sk-parallel-item:only-child::after {width: 0;}#sk-container-id-3 div.sk-dashed-wrapped {border: 1px dashed gray;margin: 0 0.4em 0.5em 0.4em;box-sizing: border-box;padding-bottom: 0.4em;background-color: white;}#sk-container-id-3 div.sk-label label {font-family: monospace;font-weight: bold;display: inline-block;line-height: 1.2em;}#sk-container-id-3 div.sk-label-container {text-align: center;}#sk-container-id-3 div.sk-container {/* jupyter's `normalize.less` sets `[hidden] { display: none; }` but bootstrap.min.css set `[hidden] { display: none !important; }` so we also need the `!important` here to be able to override the default hidden behavior on the sphinx rendered scikit-learn.org. See: https://github.com/scikit-learn/scikit-learn/issues/21755 */display: inline-block !important;position: relative;}#sk-container-id-3 div.sk-text-repr-fallback {display: none;}</style><div id=\"sk-container-id-3\" class=\"sk-top-container\"><div class=\"sk-text-repr-fallback\"><pre>GridSearchCV(cv=5, estimator=RandomForestClassifier(), n_jobs=-1,\n",
       "             param_grid={&#x27;bootstrap&#x27;: [True, False], &#x27;max_depth&#x27;: [10, 50, 100],\n",
       "                         &#x27;max_features&#x27;: [&#x27;sqrt&#x27;, &#x27;log2&#x27;],\n",
       "                         &#x27;min_samples_leaf&#x27;: [10, 50, 100],\n",
       "                         &#x27;min_samples_split&#x27;: [30, 150, 300],\n",
       "                         &#x27;n_estimators&#x27;: [3, 5, 7]},\n",
       "             scoring=&#x27;recall&#x27;, verbose=2)</pre><b>In a Jupyter environment, please rerun this cell to show the HTML representation or trust the notebook. <br />On GitHub, the HTML representation is unable to render, please try loading this page with nbviewer.org.</b></div><div class=\"sk-container\" hidden><div class=\"sk-item sk-dashed-wrapped\"><div class=\"sk-label-container\"><div class=\"sk-label sk-toggleable\"><input class=\"sk-toggleable__control sk-hidden--visually\" id=\"sk-estimator-id-7\" type=\"checkbox\" ><label for=\"sk-estimator-id-7\" class=\"sk-toggleable__label sk-toggleable__label-arrow\">GridSearchCV</label><div class=\"sk-toggleable__content\"><pre>GridSearchCV(cv=5, estimator=RandomForestClassifier(), n_jobs=-1,\n",
       "             param_grid={&#x27;bootstrap&#x27;: [True, False], &#x27;max_depth&#x27;: [10, 50, 100],\n",
       "                         &#x27;max_features&#x27;: [&#x27;sqrt&#x27;, &#x27;log2&#x27;],\n",
       "                         &#x27;min_samples_leaf&#x27;: [10, 50, 100],\n",
       "                         &#x27;min_samples_split&#x27;: [30, 150, 300],\n",
       "                         &#x27;n_estimators&#x27;: [3, 5, 7]},\n",
       "             scoring=&#x27;recall&#x27;, verbose=2)</pre></div></div></div><div class=\"sk-parallel\"><div class=\"sk-parallel-item\"><div class=\"sk-item\"><div class=\"sk-label-container\"><div class=\"sk-label sk-toggleable\"><input class=\"sk-toggleable__control sk-hidden--visually\" id=\"sk-estimator-id-8\" type=\"checkbox\" ><label for=\"sk-estimator-id-8\" class=\"sk-toggleable__label sk-toggleable__label-arrow\">estimator: RandomForestClassifier</label><div class=\"sk-toggleable__content\"><pre>RandomForestClassifier()</pre></div></div></div><div class=\"sk-serial\"><div class=\"sk-item\"><div class=\"sk-estimator sk-toggleable\"><input class=\"sk-toggleable__control sk-hidden--visually\" id=\"sk-estimator-id-9\" type=\"checkbox\" ><label for=\"sk-estimator-id-9\" class=\"sk-toggleable__label sk-toggleable__label-arrow\">RandomForestClassifier</label><div class=\"sk-toggleable__content\"><pre>RandomForestClassifier()</pre></div></div></div></div></div></div></div></div></div></div>"
      ],
      "text/plain": [
       "GridSearchCV(cv=5, estimator=RandomForestClassifier(), n_jobs=-1,\n",
       "             param_grid={'bootstrap': [True, False], 'max_depth': [10, 50, 100],\n",
       "                         'max_features': ['sqrt', 'log2'],\n",
       "                         'min_samples_leaf': [10, 50, 100],\n",
       "                         'min_samples_split': [30, 150, 300],\n",
       "                         'n_estimators': [3, 5, 7]},\n",
       "             scoring='recall', verbose=2)"
      ]
     },
     "execution_count": 51,
     "metadata": {},
     "output_type": "execute_result"
    }
   ],
   "source": [
    "Grid_search.fit(x_test,y_test)"
   ]
  },
  {
   "cell_type": "code",
   "execution_count": 52,
   "id": "ec7b8aae",
   "metadata": {},
   "outputs": [
    {
     "data": {
      "text/plain": [
       "0.8910891089108912"
      ]
     },
     "execution_count": 52,
     "metadata": {},
     "output_type": "execute_result"
    }
   ],
   "source": [
    "Grid_search.best_score_"
   ]
  },
  {
   "cell_type": "code",
   "execution_count": 53,
   "id": "6af9a3a6",
   "metadata": {},
   "outputs": [
    {
     "data": {
      "text/plain": [
       "{'bootstrap': False,\n",
       " 'max_depth': 50,\n",
       " 'max_features': 'log2',\n",
       " 'min_samples_leaf': 10,\n",
       " 'min_samples_split': 30,\n",
       " 'n_estimators': 5}"
      ]
     },
     "execution_count": 53,
     "metadata": {},
     "output_type": "execute_result"
    }
   ],
   "source": [
    "Grid_search.best_params_"
   ]
  },
  {
   "cell_type": "code",
   "execution_count": 54,
   "id": "0acc7590",
   "metadata": {},
   "outputs": [],
   "source": [
    "# Applying best parameters"
   ]
  },
  {
   "cell_type": "code",
   "execution_count": 55,
   "id": "b5cab803",
   "metadata": {},
   "outputs": [],
   "source": [
    "RF_model = RandomForestClassifier(bootstrap= True,\n",
    "                                  max_depth=100,\n",
    "                                  max_features= 'sqrt',\n",
    "                                  min_samples_leaf= 10,\n",
    "                                  min_samples_split= 30,\n",
    "                                  n_estimators= 7)"
   ]
  },
  {
   "cell_type": "code",
   "execution_count": 56,
   "id": "49f46f0d",
   "metadata": {},
   "outputs": [
    {
     "data": {
      "text/html": [
       "<style>#sk-container-id-4 {color: black;}#sk-container-id-4 pre{padding: 0;}#sk-container-id-4 div.sk-toggleable {background-color: white;}#sk-container-id-4 label.sk-toggleable__label {cursor: pointer;display: block;width: 100%;margin-bottom: 0;padding: 0.3em;box-sizing: border-box;text-align: center;}#sk-container-id-4 label.sk-toggleable__label-arrow:before {content: \"▸\";float: left;margin-right: 0.25em;color: #696969;}#sk-container-id-4 label.sk-toggleable__label-arrow:hover:before {color: black;}#sk-container-id-4 div.sk-estimator:hover label.sk-toggleable__label-arrow:before {color: black;}#sk-container-id-4 div.sk-toggleable__content {max-height: 0;max-width: 0;overflow: hidden;text-align: left;background-color: #f0f8ff;}#sk-container-id-4 div.sk-toggleable__content pre {margin: 0.2em;color: black;border-radius: 0.25em;background-color: #f0f8ff;}#sk-container-id-4 input.sk-toggleable__control:checked~div.sk-toggleable__content {max-height: 200px;max-width: 100%;overflow: auto;}#sk-container-id-4 input.sk-toggleable__control:checked~label.sk-toggleable__label-arrow:before {content: \"▾\";}#sk-container-id-4 div.sk-estimator input.sk-toggleable__control:checked~label.sk-toggleable__label {background-color: #d4ebff;}#sk-container-id-4 div.sk-label input.sk-toggleable__control:checked~label.sk-toggleable__label {background-color: #d4ebff;}#sk-container-id-4 input.sk-hidden--visually {border: 0;clip: rect(1px 1px 1px 1px);clip: rect(1px, 1px, 1px, 1px);height: 1px;margin: -1px;overflow: hidden;padding: 0;position: absolute;width: 1px;}#sk-container-id-4 div.sk-estimator {font-family: monospace;background-color: #f0f8ff;border: 1px dotted black;border-radius: 0.25em;box-sizing: border-box;margin-bottom: 0.5em;}#sk-container-id-4 div.sk-estimator:hover {background-color: #d4ebff;}#sk-container-id-4 div.sk-parallel-item::after {content: \"\";width: 100%;border-bottom: 1px solid gray;flex-grow: 1;}#sk-container-id-4 div.sk-label:hover label.sk-toggleable__label {background-color: #d4ebff;}#sk-container-id-4 div.sk-serial::before {content: \"\";position: absolute;border-left: 1px solid gray;box-sizing: border-box;top: 0;bottom: 0;left: 50%;z-index: 0;}#sk-container-id-4 div.sk-serial {display: flex;flex-direction: column;align-items: center;background-color: white;padding-right: 0.2em;padding-left: 0.2em;position: relative;}#sk-container-id-4 div.sk-item {position: relative;z-index: 1;}#sk-container-id-4 div.sk-parallel {display: flex;align-items: stretch;justify-content: center;background-color: white;position: relative;}#sk-container-id-4 div.sk-item::before, #sk-container-id-4 div.sk-parallel-item::before {content: \"\";position: absolute;border-left: 1px solid gray;box-sizing: border-box;top: 0;bottom: 0;left: 50%;z-index: -1;}#sk-container-id-4 div.sk-parallel-item {display: flex;flex-direction: column;z-index: 1;position: relative;background-color: white;}#sk-container-id-4 div.sk-parallel-item:first-child::after {align-self: flex-end;width: 50%;}#sk-container-id-4 div.sk-parallel-item:last-child::after {align-self: flex-start;width: 50%;}#sk-container-id-4 div.sk-parallel-item:only-child::after {width: 0;}#sk-container-id-4 div.sk-dashed-wrapped {border: 1px dashed gray;margin: 0 0.4em 0.5em 0.4em;box-sizing: border-box;padding-bottom: 0.4em;background-color: white;}#sk-container-id-4 div.sk-label label {font-family: monospace;font-weight: bold;display: inline-block;line-height: 1.2em;}#sk-container-id-4 div.sk-label-container {text-align: center;}#sk-container-id-4 div.sk-container {/* jupyter's `normalize.less` sets `[hidden] { display: none; }` but bootstrap.min.css set `[hidden] { display: none !important; }` so we also need the `!important` here to be able to override the default hidden behavior on the sphinx rendered scikit-learn.org. See: https://github.com/scikit-learn/scikit-learn/issues/21755 */display: inline-block !important;position: relative;}#sk-container-id-4 div.sk-text-repr-fallback {display: none;}</style><div id=\"sk-container-id-4\" class=\"sk-top-container\"><div class=\"sk-text-repr-fallback\"><pre>RandomForestClassifier(max_depth=100, min_samples_leaf=10, min_samples_split=30,\n",
       "                       n_estimators=7)</pre><b>In a Jupyter environment, please rerun this cell to show the HTML representation or trust the notebook. <br />On GitHub, the HTML representation is unable to render, please try loading this page with nbviewer.org.</b></div><div class=\"sk-container\" hidden><div class=\"sk-item\"><div class=\"sk-estimator sk-toggleable\"><input class=\"sk-toggleable__control sk-hidden--visually\" id=\"sk-estimator-id-10\" type=\"checkbox\" checked><label for=\"sk-estimator-id-10\" class=\"sk-toggleable__label sk-toggleable__label-arrow\">RandomForestClassifier</label><div class=\"sk-toggleable__content\"><pre>RandomForestClassifier(max_depth=100, min_samples_leaf=10, min_samples_split=30,\n",
       "                       n_estimators=7)</pre></div></div></div></div></div>"
      ],
      "text/plain": [
       "RandomForestClassifier(max_depth=100, min_samples_leaf=10, min_samples_split=30,\n",
       "                       n_estimators=7)"
      ]
     },
     "execution_count": 56,
     "metadata": {},
     "output_type": "execute_result"
    }
   ],
   "source": [
    "RF_model.fit(x_train,y_train)"
   ]
  },
  {
   "cell_type": "code",
   "execution_count": 57,
   "id": "15eb30ca",
   "metadata": {},
   "outputs": [
    {
     "data": {
      "text/html": [
       "<style>#sk-container-id-5 {color: black;}#sk-container-id-5 pre{padding: 0;}#sk-container-id-5 div.sk-toggleable {background-color: white;}#sk-container-id-5 label.sk-toggleable__label {cursor: pointer;display: block;width: 100%;margin-bottom: 0;padding: 0.3em;box-sizing: border-box;text-align: center;}#sk-container-id-5 label.sk-toggleable__label-arrow:before {content: \"▸\";float: left;margin-right: 0.25em;color: #696969;}#sk-container-id-5 label.sk-toggleable__label-arrow:hover:before {color: black;}#sk-container-id-5 div.sk-estimator:hover label.sk-toggleable__label-arrow:before {color: black;}#sk-container-id-5 div.sk-toggleable__content {max-height: 0;max-width: 0;overflow: hidden;text-align: left;background-color: #f0f8ff;}#sk-container-id-5 div.sk-toggleable__content pre {margin: 0.2em;color: black;border-radius: 0.25em;background-color: #f0f8ff;}#sk-container-id-5 input.sk-toggleable__control:checked~div.sk-toggleable__content {max-height: 200px;max-width: 100%;overflow: auto;}#sk-container-id-5 input.sk-toggleable__control:checked~label.sk-toggleable__label-arrow:before {content: \"▾\";}#sk-container-id-5 div.sk-estimator input.sk-toggleable__control:checked~label.sk-toggleable__label {background-color: #d4ebff;}#sk-container-id-5 div.sk-label input.sk-toggleable__control:checked~label.sk-toggleable__label {background-color: #d4ebff;}#sk-container-id-5 input.sk-hidden--visually {border: 0;clip: rect(1px 1px 1px 1px);clip: rect(1px, 1px, 1px, 1px);height: 1px;margin: -1px;overflow: hidden;padding: 0;position: absolute;width: 1px;}#sk-container-id-5 div.sk-estimator {font-family: monospace;background-color: #f0f8ff;border: 1px dotted black;border-radius: 0.25em;box-sizing: border-box;margin-bottom: 0.5em;}#sk-container-id-5 div.sk-estimator:hover {background-color: #d4ebff;}#sk-container-id-5 div.sk-parallel-item::after {content: \"\";width: 100%;border-bottom: 1px solid gray;flex-grow: 1;}#sk-container-id-5 div.sk-label:hover label.sk-toggleable__label {background-color: #d4ebff;}#sk-container-id-5 div.sk-serial::before {content: \"\";position: absolute;border-left: 1px solid gray;box-sizing: border-box;top: 0;bottom: 0;left: 50%;z-index: 0;}#sk-container-id-5 div.sk-serial {display: flex;flex-direction: column;align-items: center;background-color: white;padding-right: 0.2em;padding-left: 0.2em;position: relative;}#sk-container-id-5 div.sk-item {position: relative;z-index: 1;}#sk-container-id-5 div.sk-parallel {display: flex;align-items: stretch;justify-content: center;background-color: white;position: relative;}#sk-container-id-5 div.sk-item::before, #sk-container-id-5 div.sk-parallel-item::before {content: \"\";position: absolute;border-left: 1px solid gray;box-sizing: border-box;top: 0;bottom: 0;left: 50%;z-index: -1;}#sk-container-id-5 div.sk-parallel-item {display: flex;flex-direction: column;z-index: 1;position: relative;background-color: white;}#sk-container-id-5 div.sk-parallel-item:first-child::after {align-self: flex-end;width: 50%;}#sk-container-id-5 div.sk-parallel-item:last-child::after {align-self: flex-start;width: 50%;}#sk-container-id-5 div.sk-parallel-item:only-child::after {width: 0;}#sk-container-id-5 div.sk-dashed-wrapped {border: 1px dashed gray;margin: 0 0.4em 0.5em 0.4em;box-sizing: border-box;padding-bottom: 0.4em;background-color: white;}#sk-container-id-5 div.sk-label label {font-family: monospace;font-weight: bold;display: inline-block;line-height: 1.2em;}#sk-container-id-5 div.sk-label-container {text-align: center;}#sk-container-id-5 div.sk-container {/* jupyter's `normalize.less` sets `[hidden] { display: none; }` but bootstrap.min.css set `[hidden] { display: none !important; }` so we also need the `!important` here to be able to override the default hidden behavior on the sphinx rendered scikit-learn.org. See: https://github.com/scikit-learn/scikit-learn/issues/21755 */display: inline-block !important;position: relative;}#sk-container-id-5 div.sk-text-repr-fallback {display: none;}</style><div id=\"sk-container-id-5\" class=\"sk-top-container\"><div class=\"sk-text-repr-fallback\"><pre>RandomForestClassifier(max_depth=100, min_samples_leaf=10, min_samples_split=30,\n",
       "                       n_estimators=7)</pre><b>In a Jupyter environment, please rerun this cell to show the HTML representation or trust the notebook. <br />On GitHub, the HTML representation is unable to render, please try loading this page with nbviewer.org.</b></div><div class=\"sk-container\" hidden><div class=\"sk-item\"><div class=\"sk-estimator sk-toggleable\"><input class=\"sk-toggleable__control sk-hidden--visually\" id=\"sk-estimator-id-11\" type=\"checkbox\" checked><label for=\"sk-estimator-id-11\" class=\"sk-toggleable__label sk-toggleable__label-arrow\">RandomForestClassifier</label><div class=\"sk-toggleable__content\"><pre>RandomForestClassifier(max_depth=100, min_samples_leaf=10, min_samples_split=30,\n",
       "                       n_estimators=7)</pre></div></div></div></div></div>"
      ],
      "text/plain": [
       "RandomForestClassifier(max_depth=100, min_samples_leaf=10, min_samples_split=30,\n",
       "                       n_estimators=7)"
      ]
     },
     "execution_count": 57,
     "metadata": {},
     "output_type": "execute_result"
    }
   ],
   "source": [
    "RF_model.fit(x_test,y_test)"
   ]
  },
  {
   "cell_type": "code",
   "execution_count": 58,
   "id": "3f1c5546",
   "metadata": {},
   "outputs": [
    {
     "name": "stdout",
     "output_type": "stream",
     "text": [
      "Test :0.915:\n",
      "Train :0.872\n"
     ]
    }
   ],
   "source": [
    "Y_pred = RF_model.predict(x_test)\n",
    "print(f'Test :{RF_model.score(x_test,y_test):.3f}:')\n",
    "print(f'Train :{RF_model.score(x_train, y_train):.3f}')"
   ]
  },
  {
   "cell_type": "code",
   "execution_count": 59,
   "id": "e145ce98",
   "metadata": {},
   "outputs": [],
   "source": [
    "# AUC Curve "
   ]
  },
  {
   "cell_type": "code",
   "execution_count": 60,
   "id": "0a931f8d",
   "metadata": {},
   "outputs": [
    {
     "data": {
      "image/png": "[encoded data removed]",
      "text/plain": [
       "<Figure size 500x500 with 1 Axes>"
      ]
     },
     "metadata": {},
     "output_type": "display_data"
    }
   ],
   "source": [
    "from sklearn.metrics import roc_curve, auc\n",
    "fpr, tpr, threshold = roc_curve(y_test, Y_pred)\n",
    "auc_logistic = auc(fpr, tpr)\n",
    "\n",
    "plt.figure(figsize=(5, 5), dpi=100)\n",
    "plt.plot(fpr, tpr, marker='.', label='Logistic (auc = %0.3f)' % auc_logistic)\n",
    "\n",
    "plt.xlabel('False Positive Rate -->')\n",
    "plt.ylabel('True Positive Rate -->')\n",
    "\n",
    "plt.legend()\n",
    "\n",
    "plt.show() "
   ]
  }
 ],
 "metadata": {
  "kernelspec": {
   "display_name": "Python 3 (ipykernel)",
   "language": "python",
   "name": "python3"
  },
  "language_info": {
   "codemirror_mode": {
    "name": "ipython",
    "version": 3
   },
   "file_extension": ".py",
   "mimetype": "text/x-python",
   "name": "python",
   "nbconvert_exporter": "python",
   "pygments_lexer": "ipython3",
   "version": "3.11.4"
  }
 },
 "nbformat": 4,
 "nbformat_minor": 5
}
